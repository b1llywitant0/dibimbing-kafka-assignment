{
 "cells": [
  {
   "cell_type": "code",
   "execution_count": 1,
   "id": "aa3d2efe-9447-4b55-b7a7-5e3b51762fe8",
   "metadata": {
    "tags": []
   },
   "outputs": [],
   "source": [
    "import json\n",
    "import uuid\n",
    "import os\n",
    "import json\n",
    "from dotenv import load_dotenv\n",
    "from pathlib import Path\n",
    "from kafka import KafkaProducer\n",
    "from faker import Faker\n",
    "from time import sleep"
   ]
  },
  {
   "cell_type": "code",
   "execution_count": 2,
   "id": "f8124ea4-9961-4141-8f61-4b3a31b35beb",
   "metadata": {
    "tags": []
   },
   "outputs": [
    {
     "data": {
      "text/plain": [
       "True"
      ]
     },
     "execution_count": 2,
     "metadata": {},
     "output_type": "execute_result"
    }
   ],
   "source": [
    "# Using the variables in .env file\n",
    "dotenv_path = Path('/resources/.env')\n",
    "load_dotenv(dotenv_path=dotenv_path)"
   ]
  },
  {
   "cell_type": "code",
   "execution_count": 3,
   "id": "984cf422-fabd-43a4-8e1e-9771303b556b",
   "metadata": {
    "tags": []
   },
   "outputs": [],
   "source": [
    "# Testing one of the value inside .env\n",
    "kafka_host = os.getenv('KAFKA_HOST')"
   ]
  },
  {
   "cell_type": "code",
   "execution_count": 4,
   "id": "47d743be-7190-48e0-87c0-5f6ddedff5da",
   "metadata": {
    "tags": []
   },
   "outputs": [],
   "source": [
    "from kafka import KafkaConsumer\n",
    "\n",
    "# To consume latest messages and auto-commit offsets\n",
    "consumer = KafkaConsumer('kafka-assignment',\n",
    "                         group_id='group1',\n",
    "                         bootstrap_servers=[f'{kafka_host}:9092'])"
   ]
  },
  {
   "cell_type": "code",
   "execution_count": 5,
   "id": "47c9f9b3-a5b0-4bd5-93e7-dcf06e99b192",
   "metadata": {
    "tags": []
   },
   "outputs": [
    {
     "name": "stdout",
     "output_type": "stream",
     "text": [
      "kafka-assignment:1:2: key=None value=b'{\"lead_id\": \"d02cc4e1-0d68-4e44-9099-f67000973b3c\", \"lead_name\": \"Thomas Hughes\", \"ads_channel\": \"TikTok\", \"province\": \"Banten\", \"age\": 20, \"transaction_id\": \"04281244-1de7-47a3-9409-954392740217\", \"purchase_value\": 4335540, \"ts\": 1696692264}'\n",
      "kafka-assignment:0:0: key=None value=b'{\"lead_id\": \"5389c327-77b8-491b-902c-2b0c4d883dff\", \"lead_name\": \"Jorge Coffey\", \"ads_channel\": \"Google\", \"province\": \"Jawa Timur\", \"age\": 37, \"transaction_id\": \"0ac5a456-e566-49ec-a2d3-a7fd6bc22b0d\", \"purchase_value\": 8134824, \"ts\": 705437474}'\n",
      "kafka-assignment:1:3: key=None value=b'{\"lead_id\": \"84b16079-ba55-4060-a672-fb5d96f43abf\", \"lead_name\": \"Melissa Ferguson\", \"ads_channel\": \"TikTok\", \"province\": \"Banten\", \"age\": 25, \"transaction_id\": \"7a64c577-dc81-4cd7-bf06-58d0a25cd798\", \"purchase_value\": 7085610, \"ts\": 1271249812}'\n",
      "kafka-assignment:1:4: key=None value=b'{\"lead_id\": \"436782eb-a44a-4dc9-a96f-486fc430abee\", \"lead_name\": \"Heather Mayer\", \"ads_channel\": \"Google\", \"province\": \"Jawa Timur\", \"age\": 37, \"transaction_id\": \"3b3cc177-0643-40d5-96f8-5005cbabdd3e\", \"purchase_value\": 4030892, \"ts\": 1252014546}'\n",
      "kafka-assignment:1:5: key=None value=b'{\"lead_id\": \"9a200126-9e3a-4148-a7e6-3505755781cb\", \"lead_name\": \"Scott Dawson\", \"ads_channel\": \"TikTok\", \"province\": \"Banten\", \"age\": 42, \"transaction_id\": \"fe3b6254-ac6f-4aa5-a610-b7f87f16a15b\", \"purchase_value\": 3223310, \"ts\": 1604249487}'\n",
      "kafka-assignment:1:6: key=None value=b'{\"lead_id\": \"8bd82755-337f-477b-87e3-374ad7071632\", \"lead_name\": \"Wayne Harris\", \"ads_channel\": \"Programmatic\", \"province\": \"DKI Jakarta\", \"age\": 40, \"transaction_id\": \"21225327-da8c-4855-af87-6173854023a3\", \"purchase_value\": 5008068, \"ts\": 794467011}'\n",
      "kafka-assignment:1:7: key=None value=b'{\"lead_id\": \"0ae051b6-0db8-4858-bc55-9eb672512b09\", \"lead_name\": \"Ronald Mclaughlin\", \"ads_channel\": \"Programmatic\", \"province\": \"Jawa Tengah\", \"age\": 39, \"transaction_id\": \"00ee0f90-625e-46f7-8223-9f21b1c7f9e7\", \"purchase_value\": 5807136, \"ts\": 24197950}'\n",
      "kafka-assignment:1:8: key=None value=b'{\"lead_id\": \"27905ca2-682a-4003-aba7-64a7a6479fc8\", \"lead_name\": \"Mrs. Michelle Carter\", \"ads_channel\": \"Google\", \"province\": \"Jawa Barat\", \"age\": 25, \"transaction_id\": \"75560efc-df38-4bbe-82bd-5dddd4c794a2\", \"purchase_value\": 7126247, \"ts\": 1144397335}'\n",
      "kafka-assignment:1:9: key=None value=b'{\"lead_id\": \"79446ea4-5425-4f54-babd-02c789f8cb7e\", \"lead_name\": \"Pamela Goodman\", \"ads_channel\": \"Meta\", \"province\": \"Jawa Timur\", \"age\": 38, \"transaction_id\": \"d6267a86-f06d-423e-936d-aaed4e8903fc\", \"purchase_value\": 6917872, \"ts\": 1641076974}'\n",
      "kafka-assignment:1:10: key=None value=b'{\"lead_id\": \"a10f9114-7191-4070-860c-352a0f65787d\", \"lead_name\": \"Troy Anderson\", \"ads_channel\": \"Google\", \"province\": \"Jawa Barat\", \"age\": 39, \"transaction_id\": \"4c7ba6bb-8b5f-4df5-ad67-50256ec83665\", \"purchase_value\": 4770733, \"ts\": 853946539}'\n",
      "kafka-assignment:1:11: key=None value=b'{\"lead_id\": \"1d38da46-e545-46dd-b7ca-e25538e67731\", \"lead_name\": \"Gregory Mccall\", \"ads_channel\": \"Programmatic\", \"province\": \"Jawa Barat\", \"age\": 35, \"transaction_id\": \"419858df-4bf4-4b5b-b2df-ed9413d925f6\", \"purchase_value\": 6946171, \"ts\": 797923925}'\n",
      "kafka-assignment:1:12: key=None value=b'{\"lead_id\": \"b150cabc-0f66-4277-9951-c99a8797f672\", \"lead_name\": \"Michael Brennan\", \"ads_channel\": \"Programmatic\", \"province\": \"Jawa Tengah\", \"age\": 30, \"transaction_id\": \"0b949b7f-475a-49fd-8f29-1e8c7dc453e7\", \"purchase_value\": 7408348, \"ts\": 809068725}'\n",
      "kafka-assignment:1:13: key=None value=b'{\"lead_id\": \"f4e22e8e-ec5b-45b2-a8ac-b16a1579d85f\", \"lead_name\": \"Christopher Gregory\", \"ads_channel\": \"Meta\", \"province\": \"Jawa Timur\", \"age\": 28, \"transaction_id\": \"ce5cadd1-f751-4df5-9485-4b218e0dd1ed\", \"purchase_value\": 6822609, \"ts\": 1625754291}'\n",
      "kafka-assignment:1:14: key=None value=b'{\"lead_id\": \"c018b61a-b2a9-4d2e-8245-fceabef462f8\", \"lead_name\": \"Daniel Fuller\", \"ads_channel\": \"Google\", \"province\": \"Jawa Timur\", \"age\": 41, \"transaction_id\": \"2a34a783-9295-49f8-9e03-a1890ec9946f\", \"purchase_value\": 4864700, \"ts\": 799883838}'\n",
      "kafka-assignment:1:15: key=None value=b'{\"lead_id\": \"8a25d3bd-2c7e-4360-b210-773da250487b\", \"lead_name\": \"Mitchell Griffith\", \"ads_channel\": \"TikTok\", \"province\": \"DKI Jakarta\", \"age\": 35, \"transaction_id\": \"bb0f725a-1330-4e84-88d0-b8eb691c2d00\", \"purchase_value\": 2975665, \"ts\": 577272437}'\n",
      "kafka-assignment:1:16: key=None value=b'{\"lead_id\": \"07b3f8ed-aa7c-424d-abde-fe4ae8598979\", \"lead_name\": \"Heather Patterson\", \"ads_channel\": \"Meta\", \"province\": \"DKI Jakarta\", \"age\": 38, \"transaction_id\": \"9a846bb2-2b15-4482-8d24-b7146e4db369\", \"purchase_value\": 4315263, \"ts\": 161011096}'\n",
      "kafka-assignment:1:17: key=None value=b'{\"lead_id\": \"5a5f1a1a-91a1-4cbb-84da-f339af648228\", \"lead_name\": \"Melissa Bates\", \"ads_channel\": \"TikTok\", \"province\": \"Jawa Tengah\", \"age\": 33, \"transaction_id\": \"88f3d4ff-e783-45f0-b2cb-7a0a13d97e60\", \"purchase_value\": 7388929, \"ts\": 1569988775}'\n",
      "kafka-assignment:1:18: key=None value=b'{\"lead_id\": \"8ec112fe-081c-4bed-b328-d3a290ee09ed\", \"lead_name\": \"Joseph Diaz\", \"ads_channel\": \"Programmatic\", \"province\": \"Jawa Tengah\", \"age\": 25, \"transaction_id\": \"39692740-6276-4e93-a18a-e04108c333fc\", \"purchase_value\": 9069463, \"ts\": 1483185529}'\n",
      "kafka-assignment:1:19: key=None value=b'{\"lead_id\": \"c7626bc5-2089-4b2e-aeed-51e37dbd4802\", \"lead_name\": \"Kylie Caldwell\", \"ads_channel\": \"Google\", \"province\": \"Jawa Barat\", \"age\": 42, \"transaction_id\": \"c3a587a5-7889-46bd-8459-ab3901000a04\", \"purchase_value\": 5433883, \"ts\": 1306251600}'\n",
      "kafka-assignment:1:20: key=None value=b'{\"lead_id\": \"951a964e-a756-4ecb-befa-ca5216f113f8\", \"lead_name\": \"Lisa Reed\", \"ads_channel\": \"Programmatic\", \"province\": \"Jawa Tengah\", \"age\": 28, \"transaction_id\": \"a4c2ad4e-ead8-4466-be35-7db1f6b4cc9e\", \"purchase_value\": 2034082, \"ts\": 843224008}'\n",
      "kafka-assignment:1:21: key=None value=b'{\"lead_id\": \"a5bb9ce5-1cd8-421c-b82d-0181d781f0ec\", \"lead_name\": \"Kristie Cooley\", \"ads_channel\": \"TikTok\", \"province\": \"Jawa Timur\", \"age\": 29, \"transaction_id\": \"bb8e9250-401a-4507-b0ef-1003904d0958\", \"purchase_value\": 9467224, \"ts\": 889013201}'\n",
      "kafka-assignment:1:22: key=None value=b'{\"lead_id\": \"8539ff92-2d98-4fca-a031-3ad2274b3698\", \"lead_name\": \"Eric Schroeder\", \"ads_channel\": \"Programmatic\", \"province\": \"Jawa Barat\", \"age\": 21, \"transaction_id\": \"2c26587b-012f-4da0-928b-0e3e9365e98c\", \"purchase_value\": 5787034, \"ts\": 1205413246}'\n",
      "kafka-assignment:1:23: key=None value=b'{\"lead_id\": \"4b2f068f-21b8-47f5-a1e0-5bb1d33d3526\", \"lead_name\": \"Erica Tran\", \"ads_channel\": \"Google\", \"province\": \"Jawa Tengah\", \"age\": 24, \"transaction_id\": \"52853208-7c6c-4cd5-96fd-552eef2b1dca\", \"purchase_value\": 2330706, \"ts\": 162678940}'\n",
      "kafka-assignment:1:24: key=None value=b'{\"lead_id\": \"b4e63218-ea50-4c7b-a2ef-929b31525e94\", \"lead_name\": \"Kristen Huang\", \"ads_channel\": \"Google\", \"province\": \"Jawa Timur\", \"age\": 41, \"transaction_id\": \"97ad4d4c-6380-4082-a7fb-917f4422cea3\", \"purchase_value\": 8019798, \"ts\": 1656382969}'\n",
      "kafka-assignment:1:25: key=None value=b'{\"lead_id\": \"7c6c0a07-08d1-4a81-adf0-87fab89db809\", \"lead_name\": \"Tracy Wade\", \"ads_channel\": \"Google\", \"province\": \"DKI Jakarta\", \"age\": 23, \"transaction_id\": \"be24e507-8fc1-48ca-9926-5e69d0533971\", \"purchase_value\": 4318656, \"ts\": 938044211}'\n",
      "kafka-assignment:1:26: key=None value=b'{\"lead_id\": \"5231ea0b-8d31-4e8c-a0e8-04aea45b21a3\", \"lead_name\": \"Charles Wilson\", \"ads_channel\": \"Meta\", \"province\": \"Jawa Timur\", \"age\": 44, \"transaction_id\": \"8574db04-a394-41b0-b7a0-afcbb0a3a186\", \"purchase_value\": 5430540, \"ts\": 1005908732}'\n",
      "kafka-assignment:1:27: key=None value=b'{\"lead_id\": \"764bfbd0-eb0f-4659-9842-c816d83751f1\", \"lead_name\": \"Brandi Brock\", \"ads_channel\": \"Google\", \"province\": \"Jawa Timur\", \"age\": 39, \"transaction_id\": \"c6448d99-b7c4-4d99-9136-1ac627cdadb7\", \"purchase_value\": 2652368, \"ts\": 982074191}'\n",
      "kafka-assignment:1:28: key=None value=b'{\"lead_id\": \"231ac009-9f7c-43d4-bd27-2b583617d9e8\", \"lead_name\": \"Catherine Tucker\", \"ads_channel\": \"Programmatic\", \"province\": \"Jawa Barat\", \"age\": 22, \"transaction_id\": \"42aa1a76-d122-496a-a5ad-bf30e2c5b857\", \"purchase_value\": 3684491, \"ts\": 522473577}'\n",
      "kafka-assignment:1:29: key=None value=b'{\"lead_id\": \"0914cfa0-08b8-4bad-90fd-8dacaac1f995\", \"lead_name\": \"Thomas Andrews DVM\", \"ads_channel\": \"Meta\", \"province\": \"Jawa Barat\", \"age\": 28, \"transaction_id\": \"a98220c1-785a-43c2-8770-34235379ddcc\", \"purchase_value\": 5380562, \"ts\": 807731741}'\n",
      "kafka-assignment:1:30: key=None value=b'{\"lead_id\": \"9a9a3723-05ff-4bf8-983a-44c4738c803d\", \"lead_name\": \"Brandon Brown\", \"ads_channel\": \"TikTok\", \"province\": \"Banten\", \"age\": 19, \"transaction_id\": \"e8251f65-36bb-47e6-9d54-5b7ec88b8855\", \"purchase_value\": 8970660, \"ts\": 946958650}'\n",
      "kafka-assignment:1:31: key=None value=b'{\"lead_id\": \"52156847-18c9-40ac-9a92-249760fc1679\", \"lead_name\": \"Laura Shepherd\", \"ads_channel\": \"TikTok\", \"province\": \"Banten\", \"age\": 45, \"transaction_id\": \"5bfd66e3-4c48-47ff-908a-e5c34aa72bf6\", \"purchase_value\": 8070093, \"ts\": 1103608420}'\n",
      "kafka-assignment:1:32: key=None value=b'{\"lead_id\": \"47a0d88a-a0cc-43b6-b345-985d21599d3b\", \"lead_name\": \"Reginald Taylor\", \"ads_channel\": \"Programmatic\", \"province\": \"Jawa Tengah\", \"age\": 40, \"transaction_id\": \"0bf0d4c3-d803-4190-a44c-53d75535380b\", \"purchase_value\": 4483840, \"ts\": 1205190698}'\n",
      "kafka-assignment:1:33: key=None value=b'{\"lead_id\": \"ad297922-7e98-4188-9719-15980117e52f\", \"lead_name\": \"Linda Cunningham\", \"ads_channel\": \"Meta\", \"province\": \"DKI Jakarta\", \"age\": 24, \"transaction_id\": \"0057d6f9-4e06-4165-9d53-f319d4532598\", \"purchase_value\": 378603, \"ts\": 734702514}'\n",
      "kafka-assignment:1:34: key=None value=b'{\"lead_id\": \"3a41085f-611c-4b88-a010-c855d5f4a113\", \"lead_name\": \"Lisa Freeman\", \"ads_channel\": \"Meta\", \"province\": \"Banten\", \"age\": 30, \"transaction_id\": \"1be68ee1-6b90-4629-ab08-1e6cfdabb36b\", \"purchase_value\": 1556830, \"ts\": 1713527110}'\n",
      "kafka-assignment:1:35: key=None value=b'{\"lead_id\": \"6aafa16d-4b62-4cf0-b7b2-8ae82846c7da\", \"lead_name\": \"Joseph Jones\", \"ads_channel\": \"TikTok\", \"province\": \"Banten\", \"age\": 25, \"transaction_id\": \"ea0e0ece-3501-44c7-9969-b3908eb863ab\", \"purchase_value\": 3860781, \"ts\": 840085764}'\n",
      "kafka-assignment:1:36: key=None value=b'{\"lead_id\": \"ad0a7625-eec1-4778-9ace-70a8b0cdfd62\", \"lead_name\": \"Brian Allen\", \"ads_channel\": \"Programmatic\", \"province\": \"Banten\", \"age\": 27, \"transaction_id\": \"a51f1121-b163-4c72-8176-4ec817d44347\", \"purchase_value\": 8879855, \"ts\": 355851376}'\n",
      "kafka-assignment:1:37: key=None value=b'{\"lead_id\": \"c316ddec-753a-4bfd-979c-5df0fdc137b7\", \"lead_name\": \"Dylan Anderson\", \"ads_channel\": \"Programmatic\", \"province\": \"DKI Jakarta\", \"age\": 20, \"transaction_id\": \"1ac33e21-da57-4916-9643-def61ce6c7da\", \"purchase_value\": 5458546, \"ts\": 781641653}'\n",
      "kafka-assignment:1:38: key=None value=b'{\"lead_id\": \"6900eeee-bc76-4229-9a1f-15ac3429d69b\", \"lead_name\": \"Ann Chavez\", \"ads_channel\": \"TikTok\", \"province\": \"Jawa Barat\", \"age\": 33, \"transaction_id\": \"bd4ec4fc-6af4-4485-8a56-0baabc31af30\", \"purchase_value\": 8125341, \"ts\": 377822877}'\n",
      "kafka-assignment:1:39: key=None value=b'{\"lead_id\": \"bf95a595-da7c-489b-b946-ea3c1dfdf3d7\", \"lead_name\": \"Jennifer Buck\", \"ads_channel\": \"TikTok\", \"province\": \"Banten\", \"age\": 26, \"transaction_id\": \"6175e97c-4c25-4175-bd2e-ddc4f5a6a3f4\", \"purchase_value\": 5087907, \"ts\": 1281152894}'\n",
      "kafka-assignment:1:40: key=None value=b'{\"lead_id\": \"488a53fe-3378-4ad5-9b71-e34e1d03ae47\", \"lead_name\": \"Zachary Sanders\", \"ads_channel\": \"TikTok\", \"province\": \"Jawa Tengah\", \"age\": 24, \"transaction_id\": \"e4da20a0-4d32-45dd-8b42-b7b5ba44ca7e\", \"purchase_value\": 4786617, \"ts\": 1489434759}'\n",
      "kafka-assignment:1:41: key=None value=b'{\"lead_id\": \"f7e9b6b1-5f27-4caa-9106-e42f1cce29dc\", \"lead_name\": \"Kimberly Riley\", \"ads_channel\": \"Programmatic\", \"province\": \"Jawa Barat\", \"age\": 43, \"transaction_id\": \"9c4a3cee-32f3-49e8-982b-981653f19fef\", \"purchase_value\": 2847351, \"ts\": 927243112}'\n",
      "kafka-assignment:1:42: key=None value=b'{\"lead_id\": \"0da0050f-45d8-4cae-91c9-63d299b8366b\", \"lead_name\": \"Theresa Thompson\", \"ads_channel\": \"Google\", \"province\": \"Banten\", \"age\": 27, \"transaction_id\": \"378e9e5a-70ba-4e60-9506-0fa83ca5e77b\", \"purchase_value\": 5724994, \"ts\": 102000665}'\n",
      "kafka-assignment:1:43: key=None value=b'{\"lead_id\": \"68d81126-8dce-4a53-924a-41b6dd8640c9\", \"lead_name\": \"Carrie Schroeder\", \"ads_channel\": \"Meta\", \"province\": \"Banten\", \"age\": 24, \"transaction_id\": \"f9a3acdb-bd76-47a2-91dc-888893f0e838\", \"purchase_value\": 6689652, \"ts\": 1045254719}'\n",
      "kafka-assignment:1:44: key=None value=b'{\"lead_id\": \"40e98688-6146-4334-9fd8-5c155d1ba1c7\", \"lead_name\": \"Tony Hall\", \"ads_channel\": \"Meta\", \"province\": \"Jawa Barat\", \"age\": 18, \"transaction_id\": \"6058af74-cd0c-45cf-a3df-189c621cb897\", \"purchase_value\": 5075708, \"ts\": 1229652898}'\n",
      "kafka-assignment:1:45: key=None value=b'{\"lead_id\": \"1f648736-7adc-478a-b3d7-28d17add8ae2\", \"lead_name\": \"Mary Johnson\", \"ads_channel\": \"TikTok\", \"province\": \"Jawa Tengah\", \"age\": 38, \"transaction_id\": \"0e908c27-2f92-41c9-92d6-8f15ab50089f\", \"purchase_value\": 7078360, \"ts\": 838879192}'\n",
      "kafka-assignment:1:46: key=None value=b'{\"lead_id\": \"b511227d-04e0-483b-89de-4d72efdb4e7d\", \"lead_name\": \"Vicki Hamilton\", \"ads_channel\": \"Programmatic\", \"province\": \"Jawa Barat\", \"age\": 23, \"transaction_id\": \"050106e9-9ec5-4a0c-b959-114ba9c05850\", \"purchase_value\": 435211, \"ts\": 830083055}'\n",
      "kafka-assignment:1:47: key=None value=b'{\"lead_id\": \"992949d2-3406-4de5-a581-85862282ae9a\", \"lead_name\": \"Selena Jones\", \"ads_channel\": \"Programmatic\", \"province\": \"Jawa Barat\", \"age\": 32, \"transaction_id\": \"d15222d1-7e70-47e2-a421-50d9b98c44bc\", \"purchase_value\": 4990902, \"ts\": 1616110086}'\n",
      "kafka-assignment:1:48: key=None value=b'{\"lead_id\": \"ffa2b052-eec2-41a2-b73b-1d5cdea5b1e4\", \"lead_name\": \"Courtney Walker\", \"ads_channel\": \"TikTok\", \"province\": \"Jawa Tengah\", \"age\": 25, \"transaction_id\": \"33c87b7c-923c-49d3-8c2b-40d83a3115ff\", \"purchase_value\": 1674568, \"ts\": 1568803118}'\n",
      "kafka-assignment:1:49: key=None value=b'{\"lead_id\": \"7a0e1ced-4217-44d3-bc00-de9f5715619c\", \"lead_name\": \"Mary Williams\", \"ads_channel\": \"Google\", \"province\": \"Jawa Tengah\", \"age\": 20, \"transaction_id\": \"df15fd1f-0075-4c2c-82db-9a2fc464cbb5\", \"purchase_value\": 9056432, \"ts\": 327673040}'\n",
      "kafka-assignment:1:50: key=None value=b'{\"lead_id\": \"1bf35dd6-01ad-44bb-8a77-136fd0ab55fb\", \"lead_name\": \"Shari Wagner\", \"ads_channel\": \"Google\", \"province\": \"Banten\", \"age\": 30, \"transaction_id\": \"9848c3ad-3c19-4c24-973b-8afce870ef00\", \"purchase_value\": 5951470, \"ts\": 158626825}'\n",
      "kafka-assignment:1:51: key=None value=b'{\"lead_id\": \"e0205991-d806-4649-8b42-54cbd27e978b\", \"lead_name\": \"Spencer Moore\", \"ads_channel\": \"TikTok\", \"province\": \"Jawa Barat\", \"age\": 41, \"transaction_id\": \"75c0768b-9b01-4f99-a789-1ec77aec5a47\", \"purchase_value\": 8422164, \"ts\": 912308282}'\n",
      "kafka-assignment:1:52: key=None value=b'{\"lead_id\": \"cb2317cc-2e94-4d1c-a9e8-8e7d94403f51\", \"lead_name\": \"George Castillo\", \"ads_channel\": \"Google\", \"province\": \"Banten\", \"age\": 44, \"transaction_id\": \"0d99cf60-a3d1-4abc-b97d-d7d6acf32ab6\", \"purchase_value\": 4237309, \"ts\": 1177802095}'\n",
      "kafka-assignment:1:53: key=None value=b'{\"lead_id\": \"12d951f7-2ff6-4542-bf99-77d20feeec12\", \"lead_name\": \"Tracy Wright\", \"ads_channel\": \"Meta\", \"province\": \"Banten\", \"age\": 43, \"transaction_id\": \"ca5e4b6a-eacd-47ce-a266-eaf0818d0b7b\", \"purchase_value\": 4028325, \"ts\": 775208086}'\n",
      "kafka-assignment:1:54: key=None value=b'{\"lead_id\": \"d2e6dbf3-2669-4765-a6a6-594784f3327b\", \"lead_name\": \"Nicholas Shaw\", \"ads_channel\": \"TikTok\", \"province\": \"DKI Jakarta\", \"age\": 28, \"transaction_id\": \"f7d0445e-0256-4686-9c66-7c55309ab07a\", \"purchase_value\": 7653157, \"ts\": 1631253139}'\n",
      "kafka-assignment:1:55: key=None value=b'{\"lead_id\": \"f058fa97-2c56-45b9-98ed-44eb36e45d35\", \"lead_name\": \"Brian Martin\", \"ads_channel\": \"Google\", \"province\": \"DKI Jakarta\", \"age\": 41, \"transaction_id\": \"a6036c54-1bd9-4cf5-bdc7-206ec794e939\", \"purchase_value\": 1795792, \"ts\": 286310177}'\n",
      "kafka-assignment:1:56: key=None value=b'{\"lead_id\": \"01915548-8deb-49d3-9161-5d9bbe01e4e3\", \"lead_name\": \"Lauren Yang\", \"ads_channel\": \"Meta\", \"province\": \"Jawa Barat\", \"age\": 26, \"transaction_id\": \"c2016e4a-a11d-4f31-825a-3ab8046494c0\", \"purchase_value\": 5835084, \"ts\": 1260374614}'\n",
      "kafka-assignment:1:57: key=None value=b'{\"lead_id\": \"f29cdc3f-8de7-47fc-897c-dcc019e19a9f\", \"lead_name\": \"Stephanie Perez\", \"ads_channel\": \"Google\", \"province\": \"Banten\", \"age\": 35, \"transaction_id\": \"b01e21f2-45a3-4996-8f73-cd27cd80641a\", \"purchase_value\": 7059616, \"ts\": 859545784}'\n",
      "kafka-assignment:1:58: key=None value=b'{\"lead_id\": \"3be67f8b-25f8-4282-b838-21d408524b21\", \"lead_name\": \"Nicole Palmer\", \"ads_channel\": \"TikTok\", \"province\": \"Jawa Timur\", \"age\": 43, \"transaction_id\": \"c7bea02b-02d6-4dd7-b5af-320a3735959d\", \"purchase_value\": 6283453, \"ts\": 1523039205}'\n",
      "kafka-assignment:1:59: key=None value=b'{\"lead_id\": \"1e2d940f-759d-457a-91d2-6604171e581c\", \"lead_name\": \"Jose King\", \"ads_channel\": \"Meta\", \"province\": \"DKI Jakarta\", \"age\": 18, \"transaction_id\": \"5c542e6a-b940-40e5-8e2f-17294cf5849e\", \"purchase_value\": 2624163, \"ts\": 599696290}'\n",
      "kafka-assignment:1:60: key=None value=b'{\"lead_id\": \"f2eb481f-f973-4c69-bd6b-8299ca699f03\", \"lead_name\": \"John Duncan\", \"ads_channel\": \"Meta\", \"province\": \"Banten\", \"age\": 27, \"transaction_id\": \"2f9a3395-377a-4692-aae4-ae6dde10e900\", \"purchase_value\": 9640111, \"ts\": 1346391749}'\n",
      "kafka-assignment:1:61: key=None value=b'{\"lead_id\": \"1b657484-1619-4d3a-bcb8-67ddd3f210bf\", \"lead_name\": \"Daniel Clark\", \"ads_channel\": \"Meta\", \"province\": \"Jawa Barat\", \"age\": 39, \"transaction_id\": \"4f0f45eb-3dba-41a0-9c77-80e496156039\", \"purchase_value\": 2795240, \"ts\": 1031548275}'\n",
      "kafka-assignment:1:62: key=None value=b'{\"lead_id\": \"fa1db753-4556-4b3f-a1b0-5cfe142dd6b0\", \"lead_name\": \"Dr. Jeffrey Robinson\", \"ads_channel\": \"Programmatic\", \"province\": \"Jawa Barat\", \"age\": 24, \"transaction_id\": \"0170d6f0-d768-4c24-94ff-e75ea9c866a4\", \"purchase_value\": 6375861, \"ts\": 1619357972}'\n",
      "kafka-assignment:1:63: key=None value=b'{\"lead_id\": \"05c18e73-dd7c-42d2-8342-9683c69a8b20\", \"lead_name\": \"Margaret Higgins\", \"ads_channel\": \"TikTok\", \"province\": \"DKI Jakarta\", \"age\": 42, \"transaction_id\": \"1cd5fa45-1b00-4216-be16-2f4f4f940ded\", \"purchase_value\": 8141631, \"ts\": 1068870158}'\n",
      "kafka-assignment:1:64: key=None value=b'{\"lead_id\": \"3be80974-b19e-4789-a987-ac0f2372377b\", \"lead_name\": \"Lisa Blevins\", \"ads_channel\": \"Meta\", \"province\": \"Banten\", \"age\": 22, \"transaction_id\": \"dbbf4af6-872e-42f7-8fec-aee84903a1bb\", \"purchase_value\": 7047266, \"ts\": 1643452713}'\n",
      "kafka-assignment:1:65: key=None value=b'{\"lead_id\": \"371bd60a-20ed-487c-b577-0503a6599be4\", \"lead_name\": \"Phillip Singleton\", \"ads_channel\": \"Google\", \"province\": \"DKI Jakarta\", \"age\": 36, \"transaction_id\": \"8f2f5bb9-8da9-4878-9733-f2c1ec044077\", \"purchase_value\": 4725976, \"ts\": 1513279897}'\n",
      "kafka-assignment:1:66: key=None value=b'{\"lead_id\": \"a4976f2f-6be1-41da-85e6-0bbc66685d33\", \"lead_name\": \"Donna Navarro\", \"ads_channel\": \"Meta\", \"province\": \"Banten\", \"age\": 32, \"transaction_id\": \"1bfeb662-dea2-4ccd-8f2a-63d9a56a27ef\", \"purchase_value\": 3168297, \"ts\": 133406384}'\n",
      "kafka-assignment:1:67: key=None value=b'{\"lead_id\": \"0b3b08a8-898d-4d77-8cbd-7e7858b9a1fe\", \"lead_name\": \"Matthew Murphy\", \"ads_channel\": \"Google\", \"province\": \"Jawa Timur\", \"age\": 40, \"transaction_id\": \"b558b14f-de2d-4db2-9e40-5c4e75b2090d\", \"purchase_value\": 5846987, \"ts\": 1033758719}'\n",
      "kafka-assignment:1:68: key=None value=b'{\"lead_id\": \"ae082274-83a7-49d3-9aee-1cb491db56c6\", \"lead_name\": \"Mrs. Kim Hayes\", \"ads_channel\": \"Programmatic\", \"province\": \"Jawa Tengah\", \"age\": 34, \"transaction_id\": \"df3c957c-2bc8-4538-b3b2-36e51a9ec4e2\", \"purchase_value\": 7607189, \"ts\": 256646318}'\n",
      "kafka-assignment:1:69: key=None value=b'{\"lead_id\": \"5b8651ac-bdfa-41da-8cd7-498d8499ca94\", \"lead_name\": \"Diane Rivera\", \"ads_channel\": \"Programmatic\", \"province\": \"Jawa Timur\", \"age\": 39, \"transaction_id\": \"aa7a7583-788a-4955-9652-a52ffa469692\", \"purchase_value\": 5921856, \"ts\": 1288242029}'\n",
      "kafka-assignment:1:70: key=None value=b'{\"lead_id\": \"8a53824f-35a1-46b3-a36c-213786685bc7\", \"lead_name\": \"John Wallace\", \"ads_channel\": \"TikTok\", \"province\": \"Jawa Barat\", \"age\": 25, \"transaction_id\": \"cc36d7fd-12e7-47db-8f60-83b2c8adb41b\", \"purchase_value\": 9720821, \"ts\": 834696503}'\n",
      "kafka-assignment:1:71: key=None value=b'{\"lead_id\": \"2b461ff0-239e-437f-a11a-7fe804d0458b\", \"lead_name\": \"Thomas James\", \"ads_channel\": \"Google\", \"province\": \"Jawa Timur\", \"age\": 41, \"transaction_id\": \"a8e3e58b-2c7b-4c14-b854-84010324104d\", \"purchase_value\": 1163927, \"ts\": 19482087}'\n",
      "kafka-assignment:1:72: key=None value=b'{\"lead_id\": \"a1a00a06-b807-4a7f-bd0a-6d8be67dab4d\", \"lead_name\": \"Veronica Roth\", \"ads_channel\": \"Meta\", \"province\": \"Jawa Tengah\", \"age\": 45, \"transaction_id\": \"8e16e20c-8c2f-441b-9047-e98f8dfef0d7\", \"purchase_value\": 8804340, \"ts\": 510541966}'\n",
      "kafka-assignment:1:73: key=None value=b'{\"lead_id\": \"3e01020e-eab5-49fe-a1d2-99c5057bb229\", \"lead_name\": \"Amanda Robinson\", \"ads_channel\": \"Google\", \"province\": \"DKI Jakarta\", \"age\": 22, \"transaction_id\": \"b14afb29-15ec-410c-af00-0feb9c94d53d\", \"purchase_value\": 7150489, \"ts\": 534789837}'\n",
      "kafka-assignment:1:74: key=None value=b'{\"lead_id\": \"7b9007e0-bf8f-4588-b71d-0e8b4fe7c106\", \"lead_name\": \"Anna Montgomery\", \"ads_channel\": \"Programmatic\", \"province\": \"Jawa Timur\", \"age\": 41, \"transaction_id\": \"360d8c91-2b2c-4b49-937e-4233085abde0\", \"purchase_value\": 3075838, \"ts\": 85428874}'\n",
      "kafka-assignment:1:75: key=None value=b'{\"lead_id\": \"01a482a0-29cc-4b81-900f-fd1f3a126f9e\", \"lead_name\": \"Ariel Hopkins\", \"ads_channel\": \"Google\", \"province\": \"Jawa Timur\", \"age\": 36, \"transaction_id\": \"3ef37350-20d3-4a97-8472-695ffd22e5ab\", \"purchase_value\": 6539517, \"ts\": 428242975}'\n",
      "kafka-assignment:1:76: key=None value=b'{\"lead_id\": \"18e77112-ae8d-4b99-9101-286d0524782c\", \"lead_name\": \"Alex Hodge\", \"ads_channel\": \"Google\", \"province\": \"Jawa Barat\", \"age\": 18, \"transaction_id\": \"66db922f-0464-4167-9840-d3742f46b18d\", \"purchase_value\": 9830906, \"ts\": 743291467}'\n",
      "kafka-assignment:1:77: key=None value=b'{\"lead_id\": \"d0c65a84-86c6-4fac-ad21-6693133a7324\", \"lead_name\": \"Patrick Martin\", \"ads_channel\": \"Programmatic\", \"province\": \"Jawa Timur\", \"age\": 30, \"transaction_id\": \"4945e6b4-6c47-48cb-ac75-b4d992056046\", \"purchase_value\": 1902378, \"ts\": 371330608}'\n",
      "kafka-assignment:1:78: key=None value=b'{\"lead_id\": \"b80fe00a-88d8-4f24-aa76-47747bb706e7\", \"lead_name\": \"Debra Smith\", \"ads_channel\": \"TikTok\", \"province\": \"Jawa Barat\", \"age\": 28, \"transaction_id\": \"7fdf49f9-f2b0-43be-8f1c-1ebb6dc209a7\", \"purchase_value\": 3511259, \"ts\": 790087485}'\n",
      "kafka-assignment:1:79: key=None value=b'{\"lead_id\": \"70616e81-5251-463a-a224-51197a8cff18\", \"lead_name\": \"Angela Carlson\", \"ads_channel\": \"TikTok\", \"province\": \"Jawa Tengah\", \"age\": 34, \"transaction_id\": \"74f569b4-7ae6-446f-bd57-3e1296535ddb\", \"purchase_value\": 7094717, \"ts\": 1051622723}'\n",
      "kafka-assignment:1:80: key=None value=b'{\"lead_id\": \"27be42c3-cf1c-49bb-bc92-4e4c299c713e\", \"lead_name\": \"Veronica Bates\", \"ads_channel\": \"Meta\", \"province\": \"Jawa Tengah\", \"age\": 18, \"transaction_id\": \"7200460a-0a9d-4eb0-9cdc-ddf5a4319ec8\", \"purchase_value\": 4943395, \"ts\": 1439877908}'\n",
      "kafka-assignment:1:81: key=None value=b'{\"lead_id\": \"a35c7c91-ee50-42ad-b6ab-e0e2ed82220a\", \"lead_name\": \"Katherine Martin\", \"ads_channel\": \"Google\", \"province\": \"DKI Jakarta\", \"age\": 36, \"transaction_id\": \"af932264-0d9a-4c32-bea9-8ed995da9ca7\", \"purchase_value\": 5750665, \"ts\": 991010198}'\n",
      "kafka-assignment:1:82: key=None value=b'{\"lead_id\": \"61888a7e-4d76-4589-8e30-c7549eadb02a\", \"lead_name\": \"Charles Shields\", \"ads_channel\": \"Google\", \"province\": \"Jawa Timur\", \"age\": 26, \"transaction_id\": \"0293f02f-2c3f-4933-bb0d-f4291a5d24c2\", \"purchase_value\": 3401952, \"ts\": 1385796481}'\n",
      "kafka-assignment:1:83: key=None value=b'{\"lead_id\": \"19860416-eb0c-4e45-8475-23173641143b\", \"lead_name\": \"Samantha Reed\", \"ads_channel\": \"Meta\", \"province\": \"Jawa Barat\", \"age\": 35, \"transaction_id\": \"eea4748d-83fe-45fb-a82b-26f4350bc1ff\", \"purchase_value\": 928081, \"ts\": 1639091691}'\n",
      "kafka-assignment:1:84: key=None value=b'{\"lead_id\": \"8d3b619e-4de9-4765-8f96-ae864e6b8c17\", \"lead_name\": \"Amy Yang\", \"ads_channel\": \"Programmatic\", \"province\": \"Banten\", \"age\": 27, \"transaction_id\": \"db03334e-1e3b-400e-9a3e-dba04d9e3581\", \"purchase_value\": 5771148, \"ts\": 1062190231}'\n",
      "kafka-assignment:1:85: key=None value=b'{\"lead_id\": \"9dbd7f0e-38b1-4841-bed3-5a73c23279f9\", \"lead_name\": \"Heather Hill\", \"ads_channel\": \"Google\", \"province\": \"DKI Jakarta\", \"age\": 18, \"transaction_id\": \"748ea838-b468-4c44-a226-2118237bfb83\", \"purchase_value\": 856588, \"ts\": 1641875273}'\n",
      "kafka-assignment:1:86: key=None value=b'{\"lead_id\": \"3d65bea9-ac8c-4e3e-837c-bb053b853751\", \"lead_name\": \"Allison Mcdonald\", \"ads_channel\": \"Programmatic\", \"province\": \"Jawa Tengah\", \"age\": 19, \"transaction_id\": \"5e5d2685-2dff-477d-bf1a-4ab23b56ed97\", \"purchase_value\": 4986793, \"ts\": 1127754112}'\n",
      "kafka-assignment:1:87: key=None value=b'{\"lead_id\": \"f7234fbd-5cd3-4390-aef0-67a628f15280\", \"lead_name\": \"Jorge Miller\", \"ads_channel\": \"TikTok\", \"province\": \"Jawa Timur\", \"age\": 36, \"transaction_id\": \"aa3fd9bd-fff8-4cb1-a309-f4a8dc162944\", \"purchase_value\": 4918412, \"ts\": 657747502}'\n",
      "kafka-assignment:1:88: key=None value=b'{\"lead_id\": \"96772111-952f-4f38-8f23-47b1aa965c73\", \"lead_name\": \"Brooke Rice\", \"ads_channel\": \"TikTok\", \"province\": \"Jawa Barat\", \"age\": 41, \"transaction_id\": \"d0cced51-0e0f-412b-aa98-08f06cad38e6\", \"purchase_value\": 5438762, \"ts\": 556444814}'\n",
      "kafka-assignment:1:89: key=None value=b'{\"lead_id\": \"c5db5915-9c9d-4ccc-ae44-0d0725c6e945\", \"lead_name\": \"Gerald Wilson DVM\", \"ads_channel\": \"Meta\", \"province\": \"DKI Jakarta\", \"age\": 23, \"transaction_id\": \"7295502b-789f-42a4-8be6-ddc7e7167cc1\", \"purchase_value\": 7015529, \"ts\": 617991445}'\n",
      "kafka-assignment:1:90: key=None value=b'{\"lead_id\": \"45720277-b271-4928-8e77-5ca8cb3dfe3c\", \"lead_name\": \"Terri White\", \"ads_channel\": \"TikTok\", \"province\": \"Jawa Timur\", \"age\": 41, \"transaction_id\": \"99d1781f-8e7c-43ba-8222-550e722ad59a\", \"purchase_value\": 4594143, \"ts\": 60811524}'\n",
      "kafka-assignment:1:91: key=None value=b'{\"lead_id\": \"b93f3ac0-85a2-4c37-a8c1-3568920923b0\", \"lead_name\": \"David Horne\", \"ads_channel\": \"Meta\", \"province\": \"Jawa Barat\", \"age\": 44, \"transaction_id\": \"e904cd88-ad08-4bc6-a270-1869eaceb9e8\", \"purchase_value\": 4587322, \"ts\": 383621645}'\n",
      "kafka-assignment:1:92: key=None value=b'{\"lead_id\": \"5c21966c-6754-4757-a573-8d82360a1acf\", \"lead_name\": \"Virginia Lowe\", \"ads_channel\": \"Meta\", \"province\": \"Jawa Barat\", \"age\": 25, \"transaction_id\": \"5f0a33a6-eacf-4871-a421-d6b8949669e7\", \"purchase_value\": 1319075, \"ts\": 666402058}'\n",
      "kafka-assignment:1:93: key=None value=b'{\"lead_id\": \"5e762db7-4f75-4d2c-9e02-58fab20066f2\", \"lead_name\": \"Craig Miller\", \"ads_channel\": \"TikTok\", \"province\": \"Jawa Tengah\", \"age\": 23, \"transaction_id\": \"688c1062-6959-4d7c-95cc-7e25d31a4d81\", \"purchase_value\": 7549146, \"ts\": 493251301}'\n",
      "kafka-assignment:1:94: key=None value=b'{\"lead_id\": \"beff9abf-2a44-4b0f-a2af-06546a0a0b31\", \"lead_name\": \"Travis Farrell\", \"ads_channel\": \"Meta\", \"province\": \"Jawa Tengah\", \"age\": 22, \"transaction_id\": \"feedfd6f-d85d-486e-95c4-aa8d5b09611a\", \"purchase_value\": 4068874, \"ts\": 938639521}'\n",
      "kafka-assignment:1:95: key=None value=b'{\"lead_id\": \"f5bda0a9-27e8-4a7d-a619-d0ab528de36f\", \"lead_name\": \"Jennifer Sellers\", \"ads_channel\": \"TikTok\", \"province\": \"Jawa Timur\", \"age\": 21, \"transaction_id\": \"3e3e20b8-c16e-4e1c-afb4-691cbb3f97fb\", \"purchase_value\": 4488548, \"ts\": 310524502}'\n",
      "kafka-assignment:1:96: key=None value=b'{\"lead_id\": \"62f8c9b5-715f-49ec-9044-7b436ddd5f08\", \"lead_name\": \"Zachary Cox\", \"ads_channel\": \"TikTok\", \"province\": \"Jawa Timur\", \"age\": 35, \"transaction_id\": \"90a8315e-88f0-4217-8393-1909826550b4\", \"purchase_value\": 2532502, \"ts\": 899459765}'\n",
      "kafka-assignment:1:97: key=None value=b'{\"lead_id\": \"314ccea3-22ef-4740-a14c-c0d57b97e50a\", \"lead_name\": \"Jeremy Ramirez\", \"ads_channel\": \"Google\", \"province\": \"Jawa Barat\", \"age\": 40, \"transaction_id\": \"1b40961c-edf8-4c91-99a7-4ecd078fd8eb\", \"purchase_value\": 7813269, \"ts\": 409039973}'\n",
      "kafka-assignment:1:98: key=None value=b'{\"lead_id\": \"0d9f56ed-d5d5-497c-acdf-0dfd29823ac2\", \"lead_name\": \"Aaron Leblanc\", \"ads_channel\": \"TikTok\", \"province\": \"Jawa Barat\", \"age\": 26, \"transaction_id\": \"b6461dec-e32f-44be-8176-2097d0e97167\", \"purchase_value\": 8361524, \"ts\": 1543048671}'\n",
      "kafka-assignment:1:99: key=None value=b'{\"lead_id\": \"265304cf-9e8a-422d-b384-9cbcdde2f9cf\", \"lead_name\": \"David Rodriguez\", \"ads_channel\": \"Programmatic\", \"province\": \"Jawa Barat\", \"age\": 22, \"transaction_id\": \"9ea424ad-52cd-41c7-8c95-52f2b090dbb3\", \"purchase_value\": 2003525, \"ts\": 1441301111}'\n",
      "kafka-assignment:1:100: key=None value=b'{\"lead_id\": \"1068e684-e5d5-4e9d-9f6d-0fe1057406bb\", \"lead_name\": \"Katherine Vargas\", \"ads_channel\": \"Meta\", \"province\": \"Banten\", \"age\": 29, \"transaction_id\": \"f94992ee-b79e-43ac-80c4-ffabe1f38118\", \"purchase_value\": 5149131, \"ts\": 988245146}'\n",
      "kafka-assignment:1:101: key=None value=b'{\"lead_id\": \"ce411e6f-f63e-4550-96f4-934b6008a03a\", \"lead_name\": \"Norman Gonzalez\", \"ads_channel\": \"Google\", \"province\": \"Banten\", \"age\": 31, \"transaction_id\": \"ec96c9b8-5705-4a1a-b54e-810991778921\", \"purchase_value\": 3835224, \"ts\": 1725603204}'\n",
      "kafka-assignment:1:102: key=None value=b'{\"lead_id\": \"04f329fc-707f-49e6-978f-3cb9d72c008a\", \"lead_name\": \"Lisa Allen\", \"ads_channel\": \"TikTok\", \"province\": \"Jawa Tengah\", \"age\": 44, \"transaction_id\": \"152655a2-510e-4d9a-aff1-74f68aea570d\", \"purchase_value\": 8197557, \"ts\": 17972118}'\n",
      "kafka-assignment:1:103: key=None value=b'{\"lead_id\": \"661f184b-3cf3-4f98-a189-7b06ecd36426\", \"lead_name\": \"Janice Thomas\", \"ads_channel\": \"Google\", \"province\": \"Banten\", \"age\": 45, \"transaction_id\": \"a2c9b4bf-cff7-4e4d-86e9-2c82418d9cde\", \"purchase_value\": 5745162, \"ts\": 748379853}'\n",
      "kafka-assignment:1:104: key=None value=b'{\"lead_id\": \"0e721b82-ea32-4208-8645-42bc38616c02\", \"lead_name\": \"Julie Gibbs\", \"ads_channel\": \"Google\", \"province\": \"Jawa Barat\", \"age\": 31, \"transaction_id\": \"1b9d023d-b72c-4560-aa6f-d7a29688b31d\", \"purchase_value\": 2947220, \"ts\": 11092665}'\n",
      "kafka-assignment:1:105: key=None value=b'{\"lead_id\": \"eb4b09af-b8ef-48e2-966d-507c98a6bd22\", \"lead_name\": \"Alyssa Gonzalez\", \"ads_channel\": \"Meta\", \"province\": \"Jawa Timur\", \"age\": 24, \"transaction_id\": \"c57049dd-ade3-4c7b-b4e9-9b5993849783\", \"purchase_value\": 8191367, \"ts\": 743374445}'\n",
      "kafka-assignment:1:106: key=None value=b'{\"lead_id\": \"991fd874-c95b-4a35-b425-d80a0268b598\", \"lead_name\": \"Mr. Jacob Nguyen\", \"ads_channel\": \"Google\", \"province\": \"Banten\", \"age\": 31, \"transaction_id\": \"5a7a3d2a-28c8-4035-b08e-fc92aab5ac9a\", \"purchase_value\": 3398072, \"ts\": 1138604946}'\n",
      "kafka-assignment:1:107: key=None value=b'{\"lead_id\": \"cfc34bb6-8844-4547-b8f3-e4ee6860373d\", \"lead_name\": \"Lisa Odonnell\", \"ads_channel\": \"Meta\", \"province\": \"DKI Jakarta\", \"age\": 42, \"transaction_id\": \"d9c8ccbc-9240-46c7-b343-435769f7c9a7\", \"purchase_value\": 4962736, \"ts\": 447859644}'\n",
      "kafka-assignment:1:108: key=None value=b'{\"lead_id\": \"f106cf0b-c9a5-400b-a278-d8a253acf865\", \"lead_name\": \"Jacob Anderson\", \"ads_channel\": \"Programmatic\", \"province\": \"Jawa Barat\", \"age\": 24, \"transaction_id\": \"50814c5a-ccbc-419c-9dfc-115986760991\", \"purchase_value\": 4008954, \"ts\": 715229847}'\n",
      "kafka-assignment:1:109: key=None value=b'{\"lead_id\": \"9df15765-32ff-40cd-acab-a30e7b6d3654\", \"lead_name\": \"Ann Crosby\", \"ads_channel\": \"TikTok\", \"province\": \"DKI Jakarta\", \"age\": 30, \"transaction_id\": \"a239bc86-42c0-49a4-93f9-a9de092c204e\", \"purchase_value\": 3447213, \"ts\": 46865419}'\n",
      "kafka-assignment:1:110: key=None value=b'{\"lead_id\": \"abc1aacb-13d0-4a56-b764-ef7a15c21797\", \"lead_name\": \"Curtis Mack\", \"ads_channel\": \"Programmatic\", \"province\": \"Jawa Tengah\", \"age\": 36, \"transaction_id\": \"f66c6141-d4dc-49db-a53c-4d7fafc18e7f\", \"purchase_value\": 6006801, \"ts\": 529262414}'\n",
      "kafka-assignment:1:111: key=None value=b'{\"lead_id\": \"dbff05ab-443b-433f-8733-64047b949a53\", \"lead_name\": \"James Woodard\", \"ads_channel\": \"Meta\", \"province\": \"DKI Jakarta\", \"age\": 33, \"transaction_id\": \"b66d1ff5-e093-40fc-943c-830bfad8e78e\", \"purchase_value\": 8308434, \"ts\": 156280241}'\n",
      "kafka-assignment:1:112: key=None value=b'{\"lead_id\": \"eb11dc0a-0331-4a3d-a6e5-d04314fcb691\", \"lead_name\": \"Jeremy Mccullough\", \"ads_channel\": \"Programmatic\", \"province\": \"DKI Jakarta\", \"age\": 21, \"transaction_id\": \"1ff5bf1c-6fe4-4d92-b627-8fdf5d735e7a\", \"purchase_value\": 4329107, \"ts\": 1431627937}'\n",
      "kafka-assignment:1:113: key=None value=b'{\"lead_id\": \"f91f1dac-2417-4dbb-81eb-9667e73b907e\", \"lead_name\": \"Madeline Cooper\", \"ads_channel\": \"TikTok\", \"province\": \"Jawa Timur\", \"age\": 43, \"transaction_id\": \"fafb45f0-6a5d-47e0-a8ef-4d741724994b\", \"purchase_value\": 909042, \"ts\": 1085748473}'\n",
      "kafka-assignment:1:114: key=None value=b'{\"lead_id\": \"ea537145-f36d-4158-8161-19747cc412ae\", \"lead_name\": \"Paula Whitehead\", \"ads_channel\": \"Programmatic\", \"province\": \"Jawa Barat\", \"age\": 42, \"transaction_id\": \"ff40e090-cd4d-41f7-bfd8-71096a01eb0a\", \"purchase_value\": 8935111, \"ts\": 11562412}'\n",
      "kafka-assignment:1:115: key=None value=b'{\"lead_id\": \"e2232980-a379-48f2-9163-9c61bad5e066\", \"lead_name\": \"Linda Williams\", \"ads_channel\": \"TikTok\", \"province\": \"Jawa Timur\", \"age\": 29, \"transaction_id\": \"cd2ab141-dc0e-4ce6-bf2d-d043b12cf395\", \"purchase_value\": 8787619, \"ts\": 1132981625}'\n",
      "kafka-assignment:1:116: key=None value=b'{\"lead_id\": \"55098c25-697c-41ed-b31d-8a1160a8240c\", \"lead_name\": \"Victoria Smith\", \"ads_channel\": \"Google\", \"province\": \"Jawa Timur\", \"age\": 42, \"transaction_id\": \"da901084-e3b9-4161-9f9a-282c086f1f6d\", \"purchase_value\": 9658732, \"ts\": 1643102481}'\n",
      "kafka-assignment:1:117: key=None value=b'{\"lead_id\": \"92204dc9-d9fc-47de-a2f3-4e8996a5e76e\", \"lead_name\": \"Melissa Duncan\", \"ads_channel\": \"Meta\", \"province\": \"Jawa Barat\", \"age\": 39, \"transaction_id\": \"5e2f55c2-12f8-4adf-b677-2b07d6352b0f\", \"purchase_value\": 5347525, \"ts\": 408400662}'\n",
      "kafka-assignment:1:118: key=None value=b'{\"lead_id\": \"6ca41df2-c859-4074-a315-2f2bd2b44f12\", \"lead_name\": \"Christopher Thompson\", \"ads_channel\": \"Google\", \"province\": \"Jawa Barat\", \"age\": 35, \"transaction_id\": \"b480f581-bad4-408c-adaa-1b0244b94a52\", \"purchase_value\": 601920, \"ts\": 1673523977}'\n",
      "kafka-assignment:1:119: key=None value=b'{\"lead_id\": \"245724c1-61a9-411b-a12f-fb992ccb8f5c\", \"lead_name\": \"Erin Copeland\", \"ads_channel\": \"Meta\", \"province\": \"Jawa Timur\", \"age\": 18, \"transaction_id\": \"57918877-53ec-4d3c-94d8-1f5daf46b76d\", \"purchase_value\": 9722713, \"ts\": 1270742538}'\n",
      "kafka-assignment:1:120: key=None value=b'{\"lead_id\": \"12a1915d-3870-4a71-9976-961fa122e1eb\", \"lead_name\": \"Joshua Moss\", \"ads_channel\": \"Programmatic\", \"province\": \"Jawa Timur\", \"age\": 30, \"transaction_id\": \"f3db8135-7b40-4fa9-bb19-338fe3f74021\", \"purchase_value\": 1726980, \"ts\": 1499562792}'\n",
      "kafka-assignment:1:121: key=None value=b'{\"lead_id\": \"2105f66f-a834-41fe-8f83-f6356c326a1e\", \"lead_name\": \"Gina Wolfe\", \"ads_channel\": \"Meta\", \"province\": \"Jawa Timur\", \"age\": 21, \"transaction_id\": \"9c5b895e-b9ca-4d78-8982-15aedb84199e\", \"purchase_value\": 6199502, \"ts\": 998351297}'\n",
      "kafka-assignment:1:122: key=None value=b'{\"lead_id\": \"93722b62-d03d-40bc-a030-6d86a14ff9cc\", \"lead_name\": \"Kurt Fisher\", \"ads_channel\": \"Meta\", \"province\": \"DKI Jakarta\", \"age\": 33, \"transaction_id\": \"30550b9e-dc71-4068-a98d-89d0adcc4402\", \"purchase_value\": 104929, \"ts\": 913551960}'\n",
      "kafka-assignment:1:123: key=None value=b'{\"lead_id\": \"74439570-9453-4a55-b3e7-42f61a6e2a3e\", \"lead_name\": \"Sherri Williams\", \"ads_channel\": \"TikTok\", \"province\": \"Jawa Barat\", \"age\": 34, \"transaction_id\": \"ebfaa613-8357-4672-aee8-148cff3fefa9\", \"purchase_value\": 790879, \"ts\": 880336741}'\n",
      "kafka-assignment:1:124: key=None value=b'{\"lead_id\": \"af405a68-967b-427e-ac95-f0d1c4c8cf49\", \"lead_name\": \"Tracy Flores\", \"ads_channel\": \"TikTok\", \"province\": \"Jawa Barat\", \"age\": 32, \"transaction_id\": \"5165c586-fd94-45e9-9f22-429be5778fcb\", \"purchase_value\": 9056027, \"ts\": 52723217}'\n"
     ]
    },
    {
     "ename": "KeyboardInterrupt",
     "evalue": "",
     "output_type": "error",
     "traceback": [
      "\u001b[0;31m---------------------------------------------------------------------------\u001b[0m",
      "\u001b[0;31mKeyboardInterrupt\u001b[0m                         Traceback (most recent call last)",
      "Cell \u001b[0;32mIn[5], line 1\u001b[0m\n\u001b[0;32m----> 1\u001b[0m \u001b[38;5;28;01mfor\u001b[39;00m message \u001b[38;5;129;01min\u001b[39;00m consumer:\n\u001b[1;32m      2\u001b[0m     \u001b[38;5;28mprint\u001b[39m (\u001b[38;5;124m\"\u001b[39m\u001b[38;5;132;01m%s\u001b[39;00m\u001b[38;5;124m:\u001b[39m\u001b[38;5;132;01m%d\u001b[39;00m\u001b[38;5;124m:\u001b[39m\u001b[38;5;132;01m%d\u001b[39;00m\u001b[38;5;124m: key=\u001b[39m\u001b[38;5;132;01m%s\u001b[39;00m\u001b[38;5;124m value=\u001b[39m\u001b[38;5;132;01m%s\u001b[39;00m\u001b[38;5;124m\"\u001b[39m \u001b[38;5;241m%\u001b[39m (message\u001b[38;5;241m.\u001b[39mtopic, message\u001b[38;5;241m.\u001b[39mpartition,\n\u001b[1;32m      3\u001b[0m                                           message\u001b[38;5;241m.\u001b[39moffset, message\u001b[38;5;241m.\u001b[39mkey,\n\u001b[1;32m      4\u001b[0m                                           message\u001b[38;5;241m.\u001b[39mvalue))\n",
      "File \u001b[0;32m/opt/conda/lib/python3.10/site-packages/kafka/consumer/group.py:1193\u001b[0m, in \u001b[0;36mKafkaConsumer.__next__\u001b[0;34m(self)\u001b[0m\n\u001b[1;32m   1191\u001b[0m     \u001b[38;5;28;01mreturn\u001b[39;00m \u001b[38;5;28mself\u001b[39m\u001b[38;5;241m.\u001b[39mnext_v1()\n\u001b[1;32m   1192\u001b[0m \u001b[38;5;28;01melse\u001b[39;00m:\n\u001b[0;32m-> 1193\u001b[0m     \u001b[38;5;28;01mreturn\u001b[39;00m \u001b[38;5;28;43mself\u001b[39;49m\u001b[38;5;241;43m.\u001b[39;49m\u001b[43mnext_v2\u001b[49m\u001b[43m(\u001b[49m\u001b[43m)\u001b[49m\n",
      "File \u001b[0;32m/opt/conda/lib/python3.10/site-packages/kafka/consumer/group.py:1201\u001b[0m, in \u001b[0;36mKafkaConsumer.next_v2\u001b[0;34m(self)\u001b[0m\n\u001b[1;32m   1199\u001b[0m     \u001b[38;5;28mself\u001b[39m\u001b[38;5;241m.\u001b[39m_iterator \u001b[38;5;241m=\u001b[39m \u001b[38;5;28mself\u001b[39m\u001b[38;5;241m.\u001b[39m_message_generator_v2()\n\u001b[1;32m   1200\u001b[0m \u001b[38;5;28;01mtry\u001b[39;00m:\n\u001b[0;32m-> 1201\u001b[0m     \u001b[38;5;28;01mreturn\u001b[39;00m \u001b[38;5;28;43mnext\u001b[39;49m\u001b[43m(\u001b[49m\u001b[38;5;28;43mself\u001b[39;49m\u001b[38;5;241;43m.\u001b[39;49m\u001b[43m_iterator\u001b[49m\u001b[43m)\u001b[49m\n\u001b[1;32m   1202\u001b[0m \u001b[38;5;28;01mexcept\u001b[39;00m \u001b[38;5;167;01mStopIteration\u001b[39;00m:\n\u001b[1;32m   1203\u001b[0m     \u001b[38;5;28mself\u001b[39m\u001b[38;5;241m.\u001b[39m_iterator \u001b[38;5;241m=\u001b[39m \u001b[38;5;28;01mNone\u001b[39;00m\n",
      "File \u001b[0;32m/opt/conda/lib/python3.10/site-packages/kafka/consumer/group.py:1116\u001b[0m, in \u001b[0;36mKafkaConsumer._message_generator_v2\u001b[0;34m(self)\u001b[0m\n\u001b[1;32m   1114\u001b[0m \u001b[38;5;28;01mdef\u001b[39;00m \u001b[38;5;21m_message_generator_v2\u001b[39m(\u001b[38;5;28mself\u001b[39m):\n\u001b[1;32m   1115\u001b[0m     timeout_ms \u001b[38;5;241m=\u001b[39m \u001b[38;5;241m1000\u001b[39m \u001b[38;5;241m*\u001b[39m (\u001b[38;5;28mself\u001b[39m\u001b[38;5;241m.\u001b[39m_consumer_timeout \u001b[38;5;241m-\u001b[39m time\u001b[38;5;241m.\u001b[39mtime())\n\u001b[0;32m-> 1116\u001b[0m     record_map \u001b[38;5;241m=\u001b[39m \u001b[38;5;28;43mself\u001b[39;49m\u001b[38;5;241;43m.\u001b[39;49m\u001b[43mpoll\u001b[49m\u001b[43m(\u001b[49m\u001b[43mtimeout_ms\u001b[49m\u001b[38;5;241;43m=\u001b[39;49m\u001b[43mtimeout_ms\u001b[49m\u001b[43m,\u001b[49m\u001b[43m \u001b[49m\u001b[43mupdate_offsets\u001b[49m\u001b[38;5;241;43m=\u001b[39;49m\u001b[38;5;28;43;01mFalse\u001b[39;49;00m\u001b[43m)\u001b[49m\n\u001b[1;32m   1117\u001b[0m     \u001b[38;5;28;01mfor\u001b[39;00m tp, records \u001b[38;5;129;01min\u001b[39;00m six\u001b[38;5;241m.\u001b[39miteritems(record_map):\n\u001b[1;32m   1118\u001b[0m         \u001b[38;5;66;03m# Generators are stateful, and it is possible that the tp / records\u001b[39;00m\n\u001b[1;32m   1119\u001b[0m         \u001b[38;5;66;03m# here may become stale during iteration -- i.e., we seek to a\u001b[39;00m\n\u001b[1;32m   1120\u001b[0m         \u001b[38;5;66;03m# different offset, pause consumption, or lose assignment.\u001b[39;00m\n\u001b[1;32m   1121\u001b[0m         \u001b[38;5;28;01mfor\u001b[39;00m record \u001b[38;5;129;01min\u001b[39;00m records:\n\u001b[1;32m   1122\u001b[0m             \u001b[38;5;66;03m# is_fetchable(tp) should handle assignment changes and offset\u001b[39;00m\n\u001b[1;32m   1123\u001b[0m             \u001b[38;5;66;03m# resets; for all other changes (e.g., seeks) we'll rely on the\u001b[39;00m\n\u001b[1;32m   1124\u001b[0m             \u001b[38;5;66;03m# outer function destroying the existing iterator/generator\u001b[39;00m\n\u001b[1;32m   1125\u001b[0m             \u001b[38;5;66;03m# via self._iterator = None\u001b[39;00m\n",
      "File \u001b[0;32m/opt/conda/lib/python3.10/site-packages/kafka/consumer/group.py:655\u001b[0m, in \u001b[0;36mKafkaConsumer.poll\u001b[0;34m(self, timeout_ms, max_records, update_offsets)\u001b[0m\n\u001b[1;32m    653\u001b[0m remaining \u001b[38;5;241m=\u001b[39m timeout_ms\n\u001b[1;32m    654\u001b[0m \u001b[38;5;28;01mwhile\u001b[39;00m \u001b[38;5;28;01mTrue\u001b[39;00m:\n\u001b[0;32m--> 655\u001b[0m     records \u001b[38;5;241m=\u001b[39m \u001b[38;5;28;43mself\u001b[39;49m\u001b[38;5;241;43m.\u001b[39;49m\u001b[43m_poll_once\u001b[49m\u001b[43m(\u001b[49m\u001b[43mremaining\u001b[49m\u001b[43m,\u001b[49m\u001b[43m \u001b[49m\u001b[43mmax_records\u001b[49m\u001b[43m,\u001b[49m\u001b[43m \u001b[49m\u001b[43mupdate_offsets\u001b[49m\u001b[38;5;241;43m=\u001b[39;49m\u001b[43mupdate_offsets\u001b[49m\u001b[43m)\u001b[49m\n\u001b[1;32m    656\u001b[0m     \u001b[38;5;28;01mif\u001b[39;00m records:\n\u001b[1;32m    657\u001b[0m         \u001b[38;5;28;01mreturn\u001b[39;00m records\n",
      "File \u001b[0;32m/opt/conda/lib/python3.10/site-packages/kafka/consumer/group.py:702\u001b[0m, in \u001b[0;36mKafkaConsumer._poll_once\u001b[0;34m(self, timeout_ms, max_records, update_offsets)\u001b[0m\n\u001b[1;32m    699\u001b[0m     \u001b[38;5;28mself\u001b[39m\u001b[38;5;241m.\u001b[39m_client\u001b[38;5;241m.\u001b[39mpoll(timeout_ms\u001b[38;5;241m=\u001b[39m\u001b[38;5;241m0\u001b[39m)\n\u001b[1;32m    701\u001b[0m timeout_ms \u001b[38;5;241m=\u001b[39m \u001b[38;5;28mmin\u001b[39m(timeout_ms, \u001b[38;5;28mself\u001b[39m\u001b[38;5;241m.\u001b[39m_coordinator\u001b[38;5;241m.\u001b[39mtime_to_next_poll() \u001b[38;5;241m*\u001b[39m \u001b[38;5;241m1000\u001b[39m)\n\u001b[0;32m--> 702\u001b[0m \u001b[38;5;28;43mself\u001b[39;49m\u001b[38;5;241;43m.\u001b[39;49m\u001b[43m_client\u001b[49m\u001b[38;5;241;43m.\u001b[39;49m\u001b[43mpoll\u001b[49m\u001b[43m(\u001b[49m\u001b[43mtimeout_ms\u001b[49m\u001b[38;5;241;43m=\u001b[39;49m\u001b[43mtimeout_ms\u001b[49m\u001b[43m)\u001b[49m\n\u001b[1;32m    703\u001b[0m \u001b[38;5;66;03m# after the long poll, we should check whether the group needs to rebalance\u001b[39;00m\n\u001b[1;32m    704\u001b[0m \u001b[38;5;66;03m# prior to returning data so that the group can stabilize faster\u001b[39;00m\n\u001b[1;32m    705\u001b[0m \u001b[38;5;28;01mif\u001b[39;00m \u001b[38;5;28mself\u001b[39m\u001b[38;5;241m.\u001b[39m_coordinator\u001b[38;5;241m.\u001b[39mneed_rejoin():\n",
      "File \u001b[0;32m/opt/conda/lib/python3.10/site-packages/kafka/client_async.py:602\u001b[0m, in \u001b[0;36mKafkaClient.poll\u001b[0;34m(self, timeout_ms, future)\u001b[0m\n\u001b[1;32m    599\u001b[0m             timeout \u001b[38;5;241m=\u001b[39m \u001b[38;5;28mmin\u001b[39m(timeout, \u001b[38;5;28mself\u001b[39m\u001b[38;5;241m.\u001b[39mconfig[\u001b[38;5;124m'\u001b[39m\u001b[38;5;124mretry_backoff_ms\u001b[39m\u001b[38;5;124m'\u001b[39m])\n\u001b[1;32m    600\u001b[0m         timeout \u001b[38;5;241m=\u001b[39m \u001b[38;5;28mmax\u001b[39m(\u001b[38;5;241m0\u001b[39m, timeout)  \u001b[38;5;66;03m# avoid negative timeouts\u001b[39;00m\n\u001b[0;32m--> 602\u001b[0m     \u001b[38;5;28;43mself\u001b[39;49m\u001b[38;5;241;43m.\u001b[39;49m\u001b[43m_poll\u001b[49m\u001b[43m(\u001b[49m\u001b[43mtimeout\u001b[49m\u001b[43m \u001b[49m\u001b[38;5;241;43m/\u001b[39;49m\u001b[43m \u001b[49m\u001b[38;5;241;43m1000\u001b[39;49m\u001b[43m)\u001b[49m\n\u001b[1;32m    604\u001b[0m \u001b[38;5;66;03m# called without the lock to avoid deadlock potential\u001b[39;00m\n\u001b[1;32m    605\u001b[0m \u001b[38;5;66;03m# if handlers need to acquire locks\u001b[39;00m\n\u001b[1;32m    606\u001b[0m responses\u001b[38;5;241m.\u001b[39mextend(\u001b[38;5;28mself\u001b[39m\u001b[38;5;241m.\u001b[39m_fire_pending_completed_requests())\n",
      "File \u001b[0;32m/opt/conda/lib/python3.10/site-packages/kafka/client_async.py:634\u001b[0m, in \u001b[0;36mKafkaClient._poll\u001b[0;34m(self, timeout)\u001b[0m\n\u001b[1;32m    631\u001b[0m \u001b[38;5;28mself\u001b[39m\u001b[38;5;241m.\u001b[39m_register_send_sockets()\n\u001b[1;32m    633\u001b[0m start_select \u001b[38;5;241m=\u001b[39m time\u001b[38;5;241m.\u001b[39mtime()\n\u001b[0;32m--> 634\u001b[0m ready \u001b[38;5;241m=\u001b[39m \u001b[38;5;28;43mself\u001b[39;49m\u001b[38;5;241;43m.\u001b[39;49m\u001b[43m_selector\u001b[49m\u001b[38;5;241;43m.\u001b[39;49m\u001b[43mselect\u001b[49m\u001b[43m(\u001b[49m\u001b[43mtimeout\u001b[49m\u001b[43m)\u001b[49m\n\u001b[1;32m    635\u001b[0m end_select \u001b[38;5;241m=\u001b[39m time\u001b[38;5;241m.\u001b[39mtime()\n\u001b[1;32m    636\u001b[0m \u001b[38;5;28;01mif\u001b[39;00m \u001b[38;5;28mself\u001b[39m\u001b[38;5;241m.\u001b[39m_sensors:\n",
      "File \u001b[0;32m/opt/conda/lib/python3.10/selectors.py:469\u001b[0m, in \u001b[0;36mEpollSelector.select\u001b[0;34m(self, timeout)\u001b[0m\n\u001b[1;32m    467\u001b[0m ready \u001b[38;5;241m=\u001b[39m []\n\u001b[1;32m    468\u001b[0m \u001b[38;5;28;01mtry\u001b[39;00m:\n\u001b[0;32m--> 469\u001b[0m     fd_event_list \u001b[38;5;241m=\u001b[39m \u001b[38;5;28;43mself\u001b[39;49m\u001b[38;5;241;43m.\u001b[39;49m\u001b[43m_selector\u001b[49m\u001b[38;5;241;43m.\u001b[39;49m\u001b[43mpoll\u001b[49m\u001b[43m(\u001b[49m\u001b[43mtimeout\u001b[49m\u001b[43m,\u001b[49m\u001b[43m \u001b[49m\u001b[43mmax_ev\u001b[49m\u001b[43m)\u001b[49m\n\u001b[1;32m    470\u001b[0m \u001b[38;5;28;01mexcept\u001b[39;00m \u001b[38;5;167;01mInterruptedError\u001b[39;00m:\n\u001b[1;32m    471\u001b[0m     \u001b[38;5;28;01mreturn\u001b[39;00m ready\n",
      "\u001b[0;31mKeyboardInterrupt\u001b[0m: "
     ]
    }
   ],
   "source": [
    "for message in consumer:\n",
    "    print (\"%s:%d:%d: key=%s value=%s\" % (message.topic, message.partition,\n",
    "                                          message.offset, message.key,\n",
    "                                          message.value))"
   ]
  },
  {
   "cell_type": "code",
   "execution_count": null,
   "id": "11bd9aaf-bacc-45c2-9da8-ff2234892c90",
   "metadata": {},
   "outputs": [],
   "source": []
  }
 ],
 "metadata": {
  "kernelspec": {
   "display_name": "Python 3 (ipykernel)",
   "language": "python",
   "name": "python3"
  },
  "language_info": {
   "codemirror_mode": {
    "name": "ipython",
    "version": 3
   },
   "file_extension": ".py",
   "mimetype": "text/x-python",
   "name": "python",
   "nbconvert_exporter": "python",
   "pygments_lexer": "ipython3",
   "version": "3.10.10"
  }
 },
 "nbformat": 4,
 "nbformat_minor": 5
}
