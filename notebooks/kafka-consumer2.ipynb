{
 "cells": [
  {
   "cell_type": "code",
   "execution_count": 1,
   "id": "aa3d2efe-9447-4b55-b7a7-5e3b51762fe8",
   "metadata": {
    "tags": []
   },
   "outputs": [],
   "source": [
    "import json\n",
    "import uuid\n",
    "import os\n",
    "import json\n",
    "from dotenv import load_dotenv\n",
    "from pathlib import Path\n",
    "from kafka import KafkaProducer\n",
    "from faker import Faker\n",
    "from time import sleep"
   ]
  },
  {
   "cell_type": "code",
   "execution_count": 2,
   "id": "f8124ea4-9961-4141-8f61-4b3a31b35beb",
   "metadata": {
    "tags": []
   },
   "outputs": [
    {
     "data": {
      "text/plain": [
       "True"
      ]
     },
     "execution_count": 2,
     "metadata": {},
     "output_type": "execute_result"
    }
   ],
   "source": [
    "# Using the variables in .env file\n",
    "dotenv_path = Path('/resources/.env')\n",
    "load_dotenv(dotenv_path=dotenv_path)"
   ]
  },
  {
   "cell_type": "code",
   "execution_count": 3,
   "id": "984cf422-fabd-43a4-8e1e-9771303b556b",
   "metadata": {
    "tags": []
   },
   "outputs": [],
   "source": [
    "# Testing one of the value inside .env\n",
    "kafka_host = os.getenv('KAFKA_HOST')"
   ]
  },
  {
   "cell_type": "code",
   "execution_count": 4,
   "id": "47d743be-7190-48e0-87c0-5f6ddedff5da",
   "metadata": {
    "tags": []
   },
   "outputs": [],
   "source": [
    "from kafka import KafkaConsumer\n",
    "\n",
    "# To consume latest messages and auto-commit offsets\n",
    "consumer = KafkaConsumer('kafka-assignment',\n",
    "                         group_id='group1',\n",
    "                         bootstrap_servers=[f'{kafka_host}:9092'])"
   ]
  },
  {
   "cell_type": "code",
   "execution_count": 5,
   "id": "47c9f9b3-a5b0-4bd5-93e7-dcf06e99b192",
   "metadata": {
    "tags": []
   },
   "outputs": [
    {
     "name": "stdout",
     "output_type": "stream",
     "text": [
      "kafka-assignment:0:1: key=None value=b'{\"lead_id\": \"e145397a-2ed3-45b7-a470-16042ae3b6df\", \"lead_name\": \"Scott Lewis\", \"ads_channel\": \"Programmatic\", \"province\": \"DKI Jakarta\", \"age\": 45, \"transaction_id\": \"0ef2a40d-71a0-49b7-b91e-bdde5a32f212\", \"purchase_value\": 2782483, \"ts\": 311841276}'\n",
      "kafka-assignment:0:2: key=None value=b'{\"lead_id\": \"53242e38-13e3-4b94-bf8e-be4070fe717d\", \"lead_name\": \"Jessica Vasquez\", \"ads_channel\": \"Google\", \"province\": \"Jawa Timur\", \"age\": 29, \"transaction_id\": \"ed3f2912-1d75-492d-9851-4ed56e8eda34\", \"purchase_value\": 3667385, \"ts\": 91760904}'\n",
      "kafka-assignment:0:3: key=None value=b'{\"lead_id\": \"2ae4374d-ca76-4bf6-b6e7-afa46d2544a4\", \"lead_name\": \"Jason Watson\", \"ads_channel\": \"Meta\", \"province\": \"DKI Jakarta\", \"age\": 21, \"transaction_id\": \"a0272ad2-6eac-4931-b9cb-1377bdf20d36\", \"purchase_value\": 6080125, \"ts\": 298015835}'\n",
      "kafka-assignment:0:4: key=None value=b'{\"lead_id\": \"31e52af0-6478-4ac9-b2c3-db6e20256dcf\", \"lead_name\": \"Michele Clark\", \"ads_channel\": \"Meta\", \"province\": \"Jawa Tengah\", \"age\": 32, \"transaction_id\": \"50c77394-ba6f-472d-8322-891a664f1a58\", \"purchase_value\": 9700509, \"ts\": 1228115860}'\n",
      "kafka-assignment:0:5: key=None value=b'{\"lead_id\": \"b50b9b0a-aaa9-4870-b885-8fb05b014317\", \"lead_name\": \"George Whitaker\", \"ads_channel\": \"Programmatic\", \"province\": \"Jawa Barat\", \"age\": 45, \"transaction_id\": \"64dc4e09-90aa-457b-8bb7-b38985c8f7fc\", \"purchase_value\": 3860039, \"ts\": 1631149196}'\n",
      "kafka-assignment:0:6: key=None value=b'{\"lead_id\": \"677a3af3-81d0-4d9d-ab7e-693bb71e552a\", \"lead_name\": \"Mr. Peter Cruz\", \"ads_channel\": \"Meta\", \"province\": \"Jawa Tengah\", \"age\": 18, \"transaction_id\": \"8959f94d-9bc1-4e2f-a543-f6c0b24a2722\", \"purchase_value\": 8730922, \"ts\": 293949883}'\n",
      "kafka-assignment:0:7: key=None value=b'{\"lead_id\": \"254564e4-c45a-4510-87d4-b85fb1fc0973\", \"lead_name\": \"Denise James\", \"ads_channel\": \"Google\", \"province\": \"Jawa Tengah\", \"age\": 44, \"transaction_id\": \"cf8fd20c-5d75-4261-8ff2-d560a1b3d392\", \"purchase_value\": 4883218, \"ts\": 365403579}'\n",
      "kafka-assignment:0:8: key=None value=b'{\"lead_id\": \"89e87a3d-50ac-4ab9-8c17-1ebf9e5c67ed\", \"lead_name\": \"Steven Floyd\", \"ads_channel\": \"TikTok\", \"province\": \"Banten\", \"age\": 24, \"transaction_id\": \"f0e7b474-60aa-40ca-abaf-0764f9080bbd\", \"purchase_value\": 9537428, \"ts\": 183749737}'\n",
      "kafka-assignment:0:9: key=None value=b'{\"lead_id\": \"e247b963-1756-44cb-afb3-e9dec0c389d9\", \"lead_name\": \"Kristen Jacobs\", \"ads_channel\": \"Google\", \"province\": \"Banten\", \"age\": 36, \"transaction_id\": \"9308af04-1a8a-41c1-902f-4f6eb43866b0\", \"purchase_value\": 223769, \"ts\": 590046977}'\n",
      "kafka-assignment:0:10: key=None value=b'{\"lead_id\": \"797a3ddc-eb5f-4f2f-8e45-e8c47a012122\", \"lead_name\": \"Lisa Greene\", \"ads_channel\": \"TikTok\", \"province\": \"Banten\", \"age\": 42, \"transaction_id\": \"2f40993c-190e-4dcc-91e0-23977440d2de\", \"purchase_value\": 3928213, \"ts\": 390919356}'\n",
      "kafka-assignment:0:11: key=None value=b'{\"lead_id\": \"9baa441d-4eb4-4618-9be9-05e88482ae0b\", \"lead_name\": \"Alexandra Hahn\", \"ads_channel\": \"Meta\", \"province\": \"DKI Jakarta\", \"age\": 21, \"transaction_id\": \"7a28c36a-b23c-49b2-9bb6-abcf92c12a3a\", \"purchase_value\": 216754, \"ts\": 142091098}'\n",
      "kafka-assignment:0:12: key=None value=b'{\"lead_id\": \"46a8d58f-2346-4d5a-bb08-9893ae3d6c7b\", \"lead_name\": \"Melanie Morales\", \"ads_channel\": \"Google\", \"province\": \"Jawa Barat\", \"age\": 34, \"transaction_id\": \"f4edf96a-ceb5-47b7-a1bd-ace6dc77d5b1\", \"purchase_value\": 2468754, \"ts\": 113787807}'\n",
      "kafka-assignment:0:13: key=None value=b'{\"lead_id\": \"69340a18-94f1-4dcd-b20e-3a9f7d6acb6b\", \"lead_name\": \"Jeremy Tate\", \"ads_channel\": \"Programmatic\", \"province\": \"Jawa Tengah\", \"age\": 45, \"transaction_id\": \"2ac090b7-ea9b-4f0e-8d1b-8b65f43a26c3\", \"purchase_value\": 5272330, \"ts\": 35589772}'\n",
      "kafka-assignment:0:14: key=None value=b'{\"lead_id\": \"89137318-77bf-42c1-b029-0d8afeba85bf\", \"lead_name\": \"Karen Cameron\", \"ads_channel\": \"Programmatic\", \"province\": \"Jawa Barat\", \"age\": 35, \"transaction_id\": \"db3ca6af-6b98-42d8-a43a-93e3c5064066\", \"purchase_value\": 5018851, \"ts\": 1456410456}'\n",
      "kafka-assignment:0:15: key=None value=b'{\"lead_id\": \"1ea8624c-ccd2-4191-a86d-8cd032f6a4af\", \"lead_name\": \"Kevin Ramsey\", \"ads_channel\": \"Meta\", \"province\": \"Jawa Barat\", \"age\": 22, \"transaction_id\": \"ddc3a391-daa8-4435-9ce4-0b52bee25005\", \"purchase_value\": 7929036, \"ts\": 827758986}'\n",
      "kafka-assignment:0:16: key=None value=b'{\"lead_id\": \"1e38fd67-40be-4f61-81b6-ad051930f00c\", \"lead_name\": \"Caitlin Vasquez\", \"ads_channel\": \"Google\", \"province\": \"Banten\", \"age\": 20, \"transaction_id\": \"cce1e3c3-d682-4147-a9ac-280f69a8893f\", \"purchase_value\": 3298607, \"ts\": 580594280}'\n",
      "kafka-assignment:0:17: key=None value=b'{\"lead_id\": \"37420bde-1bf8-407b-98d1-c14d756bdeac\", \"lead_name\": \"Adrian Gutierrez\", \"ads_channel\": \"Google\", \"province\": \"Jawa Tengah\", \"age\": 37, \"transaction_id\": \"ea5978ef-091e-4c56-8985-8f346814f9ef\", \"purchase_value\": 1037894, \"ts\": 160561804}'\n",
      "kafka-assignment:0:18: key=None value=b'{\"lead_id\": \"8aca3985-d980-4f7b-93a5-60dc0110a83c\", \"lead_name\": \"David Gonzalez\", \"ads_channel\": \"Google\", \"province\": \"DKI Jakarta\", \"age\": 41, \"transaction_id\": \"54a15696-820f-4ef2-9430-9965911157a5\", \"purchase_value\": 9980535, \"ts\": 1327603086}'\n",
      "kafka-assignment:0:19: key=None value=b'{\"lead_id\": \"30ab3986-3222-455a-93bc-d874bf433b6b\", \"lead_name\": \"David Reyes\", \"ads_channel\": \"Google\", \"province\": \"Jawa Tengah\", \"age\": 33, \"transaction_id\": \"be6f5c94-f1de-490e-814e-f26964a20acc\", \"purchase_value\": 6618853, \"ts\": 247368938}'\n",
      "kafka-assignment:0:20: key=None value=b'{\"lead_id\": \"4ca048ac-188d-4ee3-b6fa-3cf872a58913\", \"lead_name\": \"Rachel Griffith\", \"ads_channel\": \"TikTok\", \"province\": \"DKI Jakarta\", \"age\": 36, \"transaction_id\": \"ad1bcd32-b8e0-4d3f-b03d-f6e50495d559\", \"purchase_value\": 6551331, \"ts\": 667068665}'\n",
      "kafka-assignment:0:21: key=None value=b'{\"lead_id\": \"7fad33b0-c9d0-46be-ace2-e716f414e987\", \"lead_name\": \"Mrs. Janice Carter\", \"ads_channel\": \"Meta\", \"province\": \"DKI Jakarta\", \"age\": 42, \"transaction_id\": \"67dc490a-6382-4d03-a296-5678733f1443\", \"purchase_value\": 394295, \"ts\": 411215360}'\n",
      "kafka-assignment:0:22: key=None value=b'{\"lead_id\": \"3d460113-3b4d-429f-99ad-aca9bbe254ec\", \"lead_name\": \"Catherine Smith\", \"ads_channel\": \"Google\", \"province\": \"Banten\", \"age\": 27, \"transaction_id\": \"abe1f70c-6a95-4b4a-9f76-590e4c0c3f5c\", \"purchase_value\": 539675, \"ts\": 277869547}'\n",
      "kafka-assignment:0:23: key=None value=b'{\"lead_id\": \"0f7a4cba-e6de-4d95-9fe9-bae9169831fd\", \"lead_name\": \"Gabriel Thomas\", \"ads_channel\": \"TikTok\", \"province\": \"Jawa Tengah\", \"age\": 22, \"transaction_id\": \"afbb6035-05f3-4551-a290-2c4313d03bca\", \"purchase_value\": 3995257, \"ts\": 1699452599}'\n",
      "kafka-assignment:0:24: key=None value=b'{\"lead_id\": \"34ecdd8f-3d71-4f4b-91e0-70fd4bacb017\", \"lead_name\": \"Laura Mcbride\", \"ads_channel\": \"Google\", \"province\": \"DKI Jakarta\", \"age\": 22, \"transaction_id\": \"d25d0ee6-a885-4154-a16a-156b3175e885\", \"purchase_value\": 2894737, \"ts\": 627149006}'\n",
      "kafka-assignment:0:25: key=None value=b'{\"lead_id\": \"44901a7a-a47e-4bc7-a649-6572898ba853\", \"lead_name\": \"Jessica Nelson\", \"ads_channel\": \"Google\", \"province\": \"Banten\", \"age\": 43, \"transaction_id\": \"ece30755-648e-4a41-a7be-2d8815209ed6\", \"purchase_value\": 4163068, \"ts\": 1698027368}'\n",
      "kafka-assignment:0:26: key=None value=b'{\"lead_id\": \"6eabb6cc-7c1c-46e2-bf3a-dcd9712a0d49\", \"lead_name\": \"Angel Mendez DDS\", \"ads_channel\": \"Programmatic\", \"province\": \"Banten\", \"age\": 30, \"transaction_id\": \"80de8c8d-333d-4468-a251-75e6c25c78c8\", \"purchase_value\": 1328218, \"ts\": 575773895}'\n",
      "kafka-assignment:0:27: key=None value=b'{\"lead_id\": \"4a0540da-1f2c-4766-bcd8-f12cdec896fa\", \"lead_name\": \"Colleen Torres\", \"ads_channel\": \"Programmatic\", \"province\": \"DKI Jakarta\", \"age\": 35, \"transaction_id\": \"51f85bc8-0593-48c4-82a2-51335171812f\", \"purchase_value\": 1420007, \"ts\": 1401705181}'\n",
      "kafka-assignment:0:28: key=None value=b'{\"lead_id\": \"4d2ef836-ae35-4211-9755-ab4fe550d0d8\", \"lead_name\": \"Steven Sanchez\", \"ads_channel\": \"TikTok\", \"province\": \"Jawa Timur\", \"age\": 22, \"transaction_id\": \"f72b7b89-29e0-4551-9ed2-c23f8bcd1298\", \"purchase_value\": 765699, \"ts\": 1256862606}'\n",
      "kafka-assignment:0:29: key=None value=b'{\"lead_id\": \"86665c48-2a4b-4064-9d5a-e3dabd4d2863\", \"lead_name\": \"Kimberly Stevens\", \"ads_channel\": \"TikTok\", \"province\": \"Jawa Barat\", \"age\": 24, \"transaction_id\": \"778f6aa4-b3e6-40a2-a556-03d192713966\", \"purchase_value\": 4265673, \"ts\": 128513405}'\n",
      "kafka-assignment:0:30: key=None value=b'{\"lead_id\": \"b791ec72-534d-45aa-8951-cf0aba8f9c8f\", \"lead_name\": \"Martha Miller\", \"ads_channel\": \"Meta\", \"province\": \"Jawa Barat\", \"age\": 33, \"transaction_id\": \"ec5b3279-75c6-4615-ba29-68e057c81cb0\", \"purchase_value\": 8488103, \"ts\": 199166772}'\n",
      "kafka-assignment:0:31: key=None value=b'{\"lead_id\": \"050b9c2b-1111-4814-b696-fd284ec55fc6\", \"lead_name\": \"Robert Matthews\", \"ads_channel\": \"Meta\", \"province\": \"Banten\", \"age\": 33, \"transaction_id\": \"eca4292f-5378-43f4-852f-517ad16b692a\", \"purchase_value\": 7496529, \"ts\": 315869190}'\n",
      "kafka-assignment:0:32: key=None value=b'{\"lead_id\": \"79c7569b-df8b-4ec5-983a-3e6dba741076\", \"lead_name\": \"Kenneth Powell\", \"ads_channel\": \"Meta\", \"province\": \"Jawa Tengah\", \"age\": 36, \"transaction_id\": \"561704a9-cbd6-49ee-baea-5ea32ec69710\", \"purchase_value\": 5100211, \"ts\": 475083580}'\n",
      "kafka-assignment:0:33: key=None value=b'{\"lead_id\": \"d2ec1359-32da-426d-99da-fc57aee54411\", \"lead_name\": \"Christine Mcdonald\", \"ads_channel\": \"Google\", \"province\": \"DKI Jakarta\", \"age\": 44, \"transaction_id\": \"aa3f17a7-a36f-497a-a14e-fdc6434f5277\", \"purchase_value\": 3858572, \"ts\": 1558213295}'\n",
      "kafka-assignment:0:34: key=None value=b'{\"lead_id\": \"b0d2cc5d-3867-420b-b10c-25deb96b9122\", \"lead_name\": \"Mercedes Robinson\", \"ads_channel\": \"Google\", \"province\": \"Banten\", \"age\": 37, \"transaction_id\": \"9ed5cc53-7ef9-4ccc-a8da-2ea362579f5e\", \"purchase_value\": 1591041, \"ts\": 1250032702}'\n",
      "kafka-assignment:0:35: key=None value=b'{\"lead_id\": \"5880fa4b-3ba5-416e-ba6b-38756be398de\", \"lead_name\": \"Mark Sawyer\", \"ads_channel\": \"Google\", \"province\": \"Jawa Barat\", \"age\": 36, \"transaction_id\": \"cc27ba54-838b-4015-b435-4a784357bb3c\", \"purchase_value\": 9074746, \"ts\": 1145443551}'\n",
      "kafka-assignment:0:36: key=None value=b'{\"lead_id\": \"1b66fe90-8c7f-450a-8cae-1033ddbe9421\", \"lead_name\": \"Derek Burton\", \"ads_channel\": \"Meta\", \"province\": \"Jawa Tengah\", \"age\": 38, \"transaction_id\": \"c0425e24-6652-4b55-aea2-53fc9c3e8e00\", \"purchase_value\": 8788231, \"ts\": 1459510395}'\n",
      "kafka-assignment:0:37: key=None value=b'{\"lead_id\": \"be551f7d-580c-445c-bfdb-fba3deee8679\", \"lead_name\": \"Melissa Daniels\", \"ads_channel\": \"TikTok\", \"province\": \"Banten\", \"age\": 42, \"transaction_id\": \"729690cf-846f-4849-b8de-d94caea8b534\", \"purchase_value\": 2675123, \"ts\": 89652235}'\n",
      "kafka-assignment:0:38: key=None value=b'{\"lead_id\": \"c769d15b-0cdd-47e2-ad5f-af0f55221ba0\", \"lead_name\": \"Ryan Hernandez\", \"ads_channel\": \"Meta\", \"province\": \"Jawa Tengah\", \"age\": 33, \"transaction_id\": \"898036ab-c618-4c5c-b3cf-9ae29325bd96\", \"purchase_value\": 2657147, \"ts\": 1180258140}'\n",
      "kafka-assignment:0:39: key=None value=b'{\"lead_id\": \"75b84887-abde-45d3-880b-3c49520847ec\", \"lead_name\": \"Manuel Smith\", \"ads_channel\": \"Google\", \"province\": \"Jawa Timur\", \"age\": 24, \"transaction_id\": \"e47953d6-200b-4c09-a774-018ffe8e67e9\", \"purchase_value\": 1104140, \"ts\": 525440928}'\n",
      "kafka-assignment:0:40: key=None value=b'{\"lead_id\": \"6550c206-4982-42d5-90d3-eb72a4d17f77\", \"lead_name\": \"Tammy Kidd MD\", \"ads_channel\": \"Google\", \"province\": \"DKI Jakarta\", \"age\": 19, \"transaction_id\": \"4dea1bfc-5869-4e1d-ac5d-07225a3bfbd8\", \"purchase_value\": 5170772, \"ts\": 584890855}'\n",
      "kafka-assignment:0:41: key=None value=b'{\"lead_id\": \"8704631e-ad2d-4b9f-a77c-f8ef7053f857\", \"lead_name\": \"Amanda Baker\", \"ads_channel\": \"Programmatic\", \"province\": \"DKI Jakarta\", \"age\": 40, \"transaction_id\": \"9100c503-9622-454c-890b-9aeb01ed8db1\", \"purchase_value\": 7804198, \"ts\": 274434839}'\n",
      "kafka-assignment:0:42: key=None value=b'{\"lead_id\": \"85d1a2c2-82e8-408d-9774-283d00672a62\", \"lead_name\": \"Teresa Smith\", \"ads_channel\": \"Google\", \"province\": \"DKI Jakarta\", \"age\": 39, \"transaction_id\": \"76a7e347-7382-4039-942e-8be8a8d5bf82\", \"purchase_value\": 619830, \"ts\": 1023285692}'\n",
      "kafka-assignment:0:43: key=None value=b'{\"lead_id\": \"3cd829f9-013a-4380-802e-e6e5a15bbda8\", \"lead_name\": \"Audrey Giles\", \"ads_channel\": \"Programmatic\", \"province\": \"Jawa Barat\", \"age\": 37, \"transaction_id\": \"771e1bfb-74e5-453e-8c8f-1f35877019c2\", \"purchase_value\": 6244486, \"ts\": 52712313}'\n",
      "kafka-assignment:0:44: key=None value=b'{\"lead_id\": \"5290825c-32ba-4f91-884a-52e310403260\", \"lead_name\": \"Carolyn Rivas\", \"ads_channel\": \"Meta\", \"province\": \"Jawa Tengah\", \"age\": 26, \"transaction_id\": \"b7275aa1-b2f7-4362-97c6-6bea4b755523\", \"purchase_value\": 5602814, \"ts\": 1439788121}'\n",
      "kafka-assignment:0:45: key=None value=b'{\"lead_id\": \"2d6028a6-6431-4eeb-b27e-a8e9209c4dbc\", \"lead_name\": \"Taylor Lyons\", \"ads_channel\": \"Meta\", \"province\": \"DKI Jakarta\", \"age\": 38, \"transaction_id\": \"b351a448-d64a-4165-ac57-fa8efaf0a643\", \"purchase_value\": 2272643, \"ts\": 240736538}'\n",
      "kafka-assignment:0:46: key=None value=b'{\"lead_id\": \"4dd5c4dc-b67d-453a-a158-44273dcdc37e\", \"lead_name\": \"Linda Hernandez\", \"ads_channel\": \"Meta\", \"province\": \"Jawa Barat\", \"age\": 38, \"transaction_id\": \"bc77169d-dc03-4f69-a930-a773c182e2f1\", \"purchase_value\": 9664522, \"ts\": 150597057}'\n",
      "kafka-assignment:0:47: key=None value=b'{\"lead_id\": \"0a45cf80-482d-4a0f-b6c4-97d6a45b61fe\", \"lead_name\": \"Jacob Powell\", \"ads_channel\": \"TikTok\", \"province\": \"Banten\", \"age\": 44, \"transaction_id\": \"716cb3ec-6f51-4dea-8aff-b3e689b18354\", \"purchase_value\": 7484167, \"ts\": 736690984}'\n",
      "kafka-assignment:0:48: key=None value=b'{\"lead_id\": \"ec0cb2c0-d525-4407-963c-6753433d39d5\", \"lead_name\": \"Sharon Garza\", \"ads_channel\": \"Google\", \"province\": \"Jawa Tengah\", \"age\": 32, \"transaction_id\": \"293cb2c6-4fa3-45e0-948b-ad8d4abde14c\", \"purchase_value\": 9718742, \"ts\": 625347667}'\n",
      "kafka-assignment:0:49: key=None value=b'{\"lead_id\": \"0639c4ac-6980-4784-a9fc-7bf6a1c63961\", \"lead_name\": \"Suzanne Mitchell\", \"ads_channel\": \"Meta\", \"province\": \"DKI Jakarta\", \"age\": 43, \"transaction_id\": \"0f898116-31d1-4135-9b71-39b929a0807e\", \"purchase_value\": 548861, \"ts\": 1190830351}'\n",
      "kafka-assignment:0:50: key=None value=b'{\"lead_id\": \"5fa2aa54-3ed7-4bb2-af46-a82bdb22f0ff\", \"lead_name\": \"Daniel Santos\", \"ads_channel\": \"Programmatic\", \"province\": \"Banten\", \"age\": 24, \"transaction_id\": \"93c3c4cc-d030-407e-ae8f-3103d2142209\", \"purchase_value\": 4945977, \"ts\": 1194073773}'\n",
      "kafka-assignment:0:51: key=None value=b'{\"lead_id\": \"287cf6d1-dc24-4af4-a1d3-e72bf7fc1f2b\", \"lead_name\": \"Thomas Murray\", \"ads_channel\": \"TikTok\", \"province\": \"DKI Jakarta\", \"age\": 31, \"transaction_id\": \"5019a01d-0539-4852-aec0-7d5cac2a9e10\", \"purchase_value\": 6137762, \"ts\": 934558637}'\n",
      "kafka-assignment:0:52: key=None value=b'{\"lead_id\": \"e3c95579-f192-4864-ac80-7a8d1ad1670c\", \"lead_name\": \"Brian Cantrell\", \"ads_channel\": \"Programmatic\", \"province\": \"DKI Jakarta\", \"age\": 26, \"transaction_id\": \"291ab3a2-b36e-4b28-940c-9d5c4607e359\", \"purchase_value\": 3785082, \"ts\": 642483213}'\n",
      "kafka-assignment:0:53: key=None value=b'{\"lead_id\": \"ab265769-ccf5-4617-8b96-93d512734481\", \"lead_name\": \"Ashley Ramirez\", \"ads_channel\": \"Google\", \"province\": \"Jawa Timur\", \"age\": 22, \"transaction_id\": \"e7d10572-b412-400c-addf-c7347457ca3e\", \"purchase_value\": 4084878, \"ts\": 910970530}'\n",
      "kafka-assignment:0:54: key=None value=b'{\"lead_id\": \"d41dad3a-65db-43d6-9d78-207ef66c9194\", \"lead_name\": \"Jose Reese\", \"ads_channel\": \"Google\", \"province\": \"Banten\", \"age\": 38, \"transaction_id\": \"f550255f-68c8-4b94-b1dc-660cdf2289fe\", \"purchase_value\": 825683, \"ts\": 1272627870}'\n",
      "kafka-assignment:0:55: key=None value=b'{\"lead_id\": \"974e2dac-f3f8-49c6-82af-40780717179c\", \"lead_name\": \"Phillip Hahn\", \"ads_channel\": \"Google\", \"province\": \"Jawa Tengah\", \"age\": 34, \"transaction_id\": \"a796226d-3b46-4a78-a5c0-769271badfdc\", \"purchase_value\": 3656344, \"ts\": 59092423}'\n",
      "kafka-assignment:0:56: key=None value=b'{\"lead_id\": \"1d82ff0c-2d87-4a1d-bb42-ed03566e74ab\", \"lead_name\": \"Crystal Roberts\", \"ads_channel\": \"TikTok\", \"province\": \"Jawa Barat\", \"age\": 44, \"transaction_id\": \"b3e8191f-e407-443d-a345-29e5ad72127c\", \"purchase_value\": 2118213, \"ts\": 18475252}'\n",
      "kafka-assignment:0:57: key=None value=b'{\"lead_id\": \"04de3226-4eba-405d-871b-931ad2c1040b\", \"lead_name\": \"Matthew Smith Jr.\", \"ads_channel\": \"Meta\", \"province\": \"Jawa Timur\", \"age\": 40, \"transaction_id\": \"50b9017e-565b-4fd3-9d71-636f4a0ee4bf\", \"purchase_value\": 963540, \"ts\": 1060902437}'\n",
      "kafka-assignment:0:58: key=None value=b'{\"lead_id\": \"0b8cca6b-9dfc-47bd-9771-617a6b8aab64\", \"lead_name\": \"Katelyn Washington\", \"ads_channel\": \"Meta\", \"province\": \"Jawa Tengah\", \"age\": 33, \"transaction_id\": \"9c86b599-cbcd-460c-b6be-8c5b4b86e0f6\", \"purchase_value\": 328916, \"ts\": 81546433}'\n",
      "kafka-assignment:0:59: key=None value=b'{\"lead_id\": \"49987b33-d7ee-4810-aec1-96abfea5512e\", \"lead_name\": \"Brandy Ball\", \"ads_channel\": \"Meta\", \"province\": \"Jawa Timur\", \"age\": 40, \"transaction_id\": \"b32d9086-f35a-4221-9739-7b0ae383ea8f\", \"purchase_value\": 331487, \"ts\": 466993832}'\n",
      "kafka-assignment:0:60: key=None value=b'{\"lead_id\": \"fc528c5c-7c2d-4fc0-a1d0-b0591d681cdf\", \"lead_name\": \"Robin Jackson\", \"ads_channel\": \"TikTok\", \"province\": \"Jawa Timur\", \"age\": 22, \"transaction_id\": \"de4f1baa-d265-4004-a351-8f300d568ef4\", \"purchase_value\": 1176010, \"ts\": 884915233}'\n",
      "kafka-assignment:0:61: key=None value=b'{\"lead_id\": \"f225a4ec-0a0d-4dc8-8874-9ba36da8d482\", \"lead_name\": \"Zachary Lutz\", \"ads_channel\": \"Programmatic\", \"province\": \"Jawa Barat\", \"age\": 37, \"transaction_id\": \"f227c979-6467-4db2-b735-f4e33261e275\", \"purchase_value\": 2642520, \"ts\": 375431248}'\n",
      "kafka-assignment:0:62: key=None value=b'{\"lead_id\": \"e1f62c13-767b-421e-ae4a-7dcf1f3b2738\", \"lead_name\": \"Zachary Wilson\", \"ads_channel\": \"TikTok\", \"province\": \"DKI Jakarta\", \"age\": 42, \"transaction_id\": \"4be068f3-3b44-4d80-b274-334a643367a9\", \"purchase_value\": 901776, \"ts\": 1368428690}'\n",
      "kafka-assignment:0:63: key=None value=b'{\"lead_id\": \"998a92a5-5be8-4579-b4f8-b9bcec48fee6\", \"lead_name\": \"Olivia Cooper\", \"ads_channel\": \"Meta\", \"province\": \"Jawa Tengah\", \"age\": 19, \"transaction_id\": \"86e9e8d3-6619-44fd-baf0-5e7b841185c8\", \"purchase_value\": 633999, \"ts\": 374680567}'\n",
      "kafka-assignment:0:64: key=None value=b'{\"lead_id\": \"d0764e9c-eeb0-4e18-b713-439a36aaa3f3\", \"lead_name\": \"Sara Riddle\", \"ads_channel\": \"Programmatic\", \"province\": \"Banten\", \"age\": 37, \"transaction_id\": \"ac561226-c4c8-46d5-8486-53e1d5c89cab\", \"purchase_value\": 9404471, \"ts\": 400442751}'\n",
      "kafka-assignment:0:65: key=None value=b'{\"lead_id\": \"3da81104-a859-4c26-9ff1-8da3378ae55d\", \"lead_name\": \"Kara Ramirez\", \"ads_channel\": \"Meta\", \"province\": \"DKI Jakarta\", \"age\": 24, \"transaction_id\": \"9cbd49d5-a7af-4f4d-9a83-498167430840\", \"purchase_value\": 9632913, \"ts\": 1184317008}'\n",
      "kafka-assignment:0:66: key=None value=b'{\"lead_id\": \"d387b99f-ac99-435a-a4f4-550bd6abe341\", \"lead_name\": \"Yolanda Flores\", \"ads_channel\": \"Programmatic\", \"province\": \"DKI Jakarta\", \"age\": 43, \"transaction_id\": \"abff32c0-c1ed-4273-b177-4d8501e1ef05\", \"purchase_value\": 8735608, \"ts\": 463720443}'\n",
      "kafka-assignment:0:67: key=None value=b'{\"lead_id\": \"668d71dd-98cb-4866-b026-86041258c0bf\", \"lead_name\": \"Dawn Holland\", \"ads_channel\": \"Google\", \"province\": \"DKI Jakarta\", \"age\": 18, \"transaction_id\": \"3eca8fa0-5e98-4825-b6e9-4f7cc1f740aa\", \"purchase_value\": 4499496, \"ts\": 898776897}'\n",
      "kafka-assignment:0:68: key=None value=b'{\"lead_id\": \"f477ade3-b714-47f8-be13-4a9900d5c6fc\", \"lead_name\": \"Erin Bean\", \"ads_channel\": \"Programmatic\", \"province\": \"Banten\", \"age\": 41, \"transaction_id\": \"48b24bc0-7d62-4dd9-a763-f3e668d06985\", \"purchase_value\": 1320713, \"ts\": 301396333}'\n",
      "kafka-assignment:0:69: key=None value=b'{\"lead_id\": \"39cf1d78-225f-4a61-93ea-40c17a6271e3\", \"lead_name\": \"Matthew White\", \"ads_channel\": \"Google\", \"province\": \"Jawa Timur\", \"age\": 36, \"transaction_id\": \"2646353c-6f13-470f-9a58-8efff3faa642\", \"purchase_value\": 1945998, \"ts\": 133444351}'\n",
      "kafka-assignment:0:70: key=None value=b'{\"lead_id\": \"6ed4ced3-0234-4bce-bff6-3d4c4e99378c\", \"lead_name\": \"Kristy Tate\", \"ads_channel\": \"TikTok\", \"province\": \"Jawa Timur\", \"age\": 35, \"transaction_id\": \"af8485f9-d9d9-4a36-8b05-be6cfa4876ef\", \"purchase_value\": 8919753, \"ts\": 983748343}'\n",
      "kafka-assignment:0:71: key=None value=b'{\"lead_id\": \"fdd9f5bb-f0ff-4b9c-b18a-023b9f5d5d65\", \"lead_name\": \"Kelsey Lee\", \"ads_channel\": \"Meta\", \"province\": \"Jawa Timur\", \"age\": 41, \"transaction_id\": \"c36c4c3a-15e9-46a5-a83d-90236403009f\", \"purchase_value\": 254998, \"ts\": 1590281871}'\n",
      "kafka-assignment:0:72: key=None value=b'{\"lead_id\": \"5ba64b7f-ac73-4f36-ba0e-4e4bd67fb87e\", \"lead_name\": \"Jessica Rodriguez MD\", \"ads_channel\": \"TikTok\", \"province\": \"DKI Jakarta\", \"age\": 32, \"transaction_id\": \"2eaa5ac9-9da1-4071-9ec5-63e41ebd2749\", \"purchase_value\": 9179679, \"ts\": 754257932}'\n",
      "kafka-assignment:0:73: key=None value=b'{\"lead_id\": \"5b53af0b-1c7a-428e-aa11-9b359e8d2af7\", \"lead_name\": \"Albert Gross\", \"ads_channel\": \"TikTok\", \"province\": \"Jawa Timur\", \"age\": 22, \"transaction_id\": \"ceb39ee2-42b0-4a45-a92a-a5505623add1\", \"purchase_value\": 4659734, \"ts\": 369955914}'\n",
      "kafka-assignment:0:74: key=None value=b'{\"lead_id\": \"141273d2-3caa-472c-8c6e-256a95519203\", \"lead_name\": \"Ms. Holly Gonzalez\", \"ads_channel\": \"Programmatic\", \"province\": \"DKI Jakarta\", \"age\": 22, \"transaction_id\": \"4198444b-c85b-4850-925f-6baa7bb52529\", \"purchase_value\": 7101011, \"ts\": 1114559525}'\n",
      "kafka-assignment:0:75: key=None value=b'{\"lead_id\": \"544923ed-51b8-456c-ba42-d352e23837c7\", \"lead_name\": \"Deborah Hunter MD\", \"ads_channel\": \"Meta\", \"province\": \"Jawa Timur\", \"age\": 21, \"transaction_id\": \"5813fc02-6044-4f2e-b92a-eb773813619c\", \"purchase_value\": 8886822, \"ts\": 1684995858}'\n",
      "kafka-assignment:0:76: key=None value=b'{\"lead_id\": \"156ca9f0-9282-449c-a2a9-c41947f914a3\", \"lead_name\": \"Daniel Hill\", \"ads_channel\": \"Google\", \"province\": \"Jawa Tengah\", \"age\": 36, \"transaction_id\": \"5e4e4f9b-190f-4ae4-9018-85ba0717536b\", \"purchase_value\": 1381416, \"ts\": 577393151}'\n",
      "kafka-assignment:0:77: key=None value=b'{\"lead_id\": \"22d72baf-06e4-42e3-9b94-2a6c5e59aff1\", \"lead_name\": \"Bruce Smith\", \"ads_channel\": \"Programmatic\", \"province\": \"DKI Jakarta\", \"age\": 26, \"transaction_id\": \"f05fb79d-0b9a-4ae6-97a9-b0f850795bba\", \"purchase_value\": 244845, \"ts\": 351920178}'\n",
      "kafka-assignment:0:78: key=None value=b'{\"lead_id\": \"cf6ed9ad-ea11-4c78-b8e2-b9a43e84bf8a\", \"lead_name\": \"Johnny Moss\", \"ads_channel\": \"Google\", \"province\": \"Jawa Timur\", \"age\": 26, \"transaction_id\": \"ff75486e-41a8-4193-952d-7be63f2dbf6b\", \"purchase_value\": 8753261, \"ts\": 703161762}'\n",
      "kafka-assignment:0:79: key=None value=b'{\"lead_id\": \"fad6301d-5893-4e76-94db-5096380e4d48\", \"lead_name\": \"Russell Barnes\", \"ads_channel\": \"Google\", \"province\": \"Banten\", \"age\": 39, \"transaction_id\": \"5cf27dcc-c524-4d7a-8615-2f5bdc98a5c6\", \"purchase_value\": 5326986, \"ts\": 1427116036}'\n",
      "kafka-assignment:0:80: key=None value=b'{\"lead_id\": \"8bd111f0-b5ac-4cbc-a9af-e190c28e64f5\", \"lead_name\": \"Robert Wood\", \"ads_channel\": \"Google\", \"province\": \"Jawa Timur\", \"age\": 40, \"transaction_id\": \"9df00249-b066-436e-b3cc-e43cb5b1ca33\", \"purchase_value\": 221522, \"ts\": 37361144}'\n",
      "kafka-assignment:0:81: key=None value=b'{\"lead_id\": \"966f1644-72e9-4b4b-b369-80d7ba05905a\", \"lead_name\": \"Donald Smith\", \"ads_channel\": \"TikTok\", \"province\": \"Jawa Timur\", \"age\": 32, \"transaction_id\": \"c2750cb1-c070-4125-a658-5a71dba8b497\", \"purchase_value\": 7694302, \"ts\": 1029688251}'\n",
      "kafka-assignment:0:82: key=None value=b'{\"lead_id\": \"0a38eb51-ad8b-4609-a9a6-bfe25fcb467b\", \"lead_name\": \"Mary Williams\", \"ads_channel\": \"Google\", \"province\": \"Jawa Tengah\", \"age\": 43, \"transaction_id\": \"52677806-7d58-4a8c-8ff4-2dc1d35a1372\", \"purchase_value\": 876094, \"ts\": 1620236451}'\n",
      "kafka-assignment:0:83: key=None value=b'{\"lead_id\": \"23d966b9-598d-407c-adeb-85c376a9c7ed\", \"lead_name\": \"Jeffery Vance\", \"ads_channel\": \"Google\", \"province\": \"Jawa Tengah\", \"age\": 31, \"transaction_id\": \"f6cce427-b548-4592-8496-2b1cb465bedd\", \"purchase_value\": 8648895, \"ts\": 1516281028}'\n",
      "kafka-assignment:0:84: key=None value=b'{\"lead_id\": \"36ab86de-6660-4573-884d-2e220c11c283\", \"lead_name\": \"Peter Dunn\", \"ads_channel\": \"Meta\", \"province\": \"Jawa Timur\", \"age\": 24, \"transaction_id\": \"b35392ea-374a-4387-847d-2a090c81e7ad\", \"purchase_value\": 1989021, \"ts\": 303947530}'\n",
      "kafka-assignment:0:85: key=None value=b'{\"lead_id\": \"c2d67df3-eaaa-43e2-9dc7-ccc2c90d144c\", \"lead_name\": \"James Rogers\", \"ads_channel\": \"Programmatic\", \"province\": \"Banten\", \"age\": 33, \"transaction_id\": \"8d5dc028-968b-4efc-b856-fadb088aa1e3\", \"purchase_value\": 9929318, \"ts\": 44374729}'\n",
      "kafka-assignment:0:86: key=None value=b'{\"lead_id\": \"221a9a6c-9ac1-4985-affb-b2d4c5746cdc\", \"lead_name\": \"Anne Pearson\", \"ads_channel\": \"TikTok\", \"province\": \"Jawa Tengah\", \"age\": 28, \"transaction_id\": \"224a36e8-e308-4843-ab41-bdd0d603655d\", \"purchase_value\": 3456151, \"ts\": 1123689327}'\n",
      "kafka-assignment:0:87: key=None value=b'{\"lead_id\": \"9b16e20e-4f36-41d1-8d36-2a647051791b\", \"lead_name\": \"Travis Johnson Jr.\", \"ads_channel\": \"Meta\", \"province\": \"Banten\", \"age\": 37, \"transaction_id\": \"ff1cba7b-116a-440f-b5e8-d2c2862d9034\", \"purchase_value\": 7843998, \"ts\": 430992843}'\n",
      "kafka-assignment:0:88: key=None value=b'{\"lead_id\": \"3d34787a-7208-4272-a1d7-16dc95eb6495\", \"lead_name\": \"Joshua Black\", \"ads_channel\": \"Programmatic\", \"province\": \"Jawa Timur\", \"age\": 23, \"transaction_id\": \"96d2825b-2bb8-498f-b048-91b390a0358b\", \"purchase_value\": 1958167, \"ts\": 674642482}'\n",
      "kafka-assignment:0:89: key=None value=b'{\"lead_id\": \"13250c2b-def2-4455-ad49-0bc5709cd6b8\", \"lead_name\": \"Dr. Rachel Davis\", \"ads_channel\": \"TikTok\", \"province\": \"DKI Jakarta\", \"age\": 36, \"transaction_id\": \"a57c9764-e688-4b4b-96f0-3f874e173a24\", \"purchase_value\": 4882377, \"ts\": 1304813368}'\n",
      "kafka-assignment:0:90: key=None value=b'{\"lead_id\": \"3f68832f-096a-40d0-86cc-285bbe09e823\", \"lead_name\": \"Julie Schneider\", \"ads_channel\": \"TikTok\", \"province\": \"Jawa Barat\", \"age\": 41, \"transaction_id\": \"19e07ba5-5dee-4cdb-861b-82bb63fcee08\", \"purchase_value\": 7100688, \"ts\": 1515309403}'\n",
      "kafka-assignment:0:91: key=None value=b'{\"lead_id\": \"d50407fd-9ee4-4a7e-ab73-a360f72d153c\", \"lead_name\": \"Sandra Mason\", \"ads_channel\": \"Meta\", \"province\": \"DKI Jakarta\", \"age\": 29, \"transaction_id\": \"a07b9c87-d14c-4b05-aa89-ddc2c6c98ab1\", \"purchase_value\": 1925918, \"ts\": 1099285041}'\n",
      "kafka-assignment:0:92: key=None value=b'{\"lead_id\": \"1510d1db-7cda-4fe8-b490-9b64e358c377\", \"lead_name\": \"Robert Beck\", \"ads_channel\": \"Programmatic\", \"province\": \"Jawa Timur\", \"age\": 24, \"transaction_id\": \"03704466-8b7b-4b58-9a3e-187f02427178\", \"purchase_value\": 9457956, \"ts\": 1126111685}'\n",
      "kafka-assignment:0:93: key=None value=b'{\"lead_id\": \"a37df2d7-7ff3-4958-bee2-6574938b6590\", \"lead_name\": \"Brian Donovan\", \"ads_channel\": \"Google\", \"province\": \"Jawa Timur\", \"age\": 29, \"transaction_id\": \"d072f162-6395-44a7-b837-833d57382186\", \"purchase_value\": 4810941, \"ts\": 1183114454}'\n",
      "kafka-assignment:0:94: key=None value=b'{\"lead_id\": \"b15ca4cb-3556-432c-8317-18af005f2d01\", \"lead_name\": \"Shane Davis\", \"ads_channel\": \"Meta\", \"province\": \"Jawa Timur\", \"age\": 27, \"transaction_id\": \"ee6771f9-c456-4d84-885e-1592ffa6910a\", \"purchase_value\": 1651163, \"ts\": 862780999}'\n",
      "kafka-assignment:0:95: key=None value=b'{\"lead_id\": \"e4a454dc-64a0-4c7e-9d4b-d3adededfcc9\", \"lead_name\": \"Patrick Frost\", \"ads_channel\": \"Google\", \"province\": \"Jawa Timur\", \"age\": 20, \"transaction_id\": \"b436122d-0207-4d78-bc19-d1627e9a681a\", \"purchase_value\": 8642833, \"ts\": 936991937}'\n",
      "kafka-assignment:0:96: key=None value=b'{\"lead_id\": \"6df3b302-fcb0-4b76-a9c8-b05db9ff7b0a\", \"lead_name\": \"Clayton Lee\", \"ads_channel\": \"TikTok\", \"province\": \"DKI Jakarta\", \"age\": 28, \"transaction_id\": \"12ada450-50c6-44b1-a235-38de352794df\", \"purchase_value\": 5393180, \"ts\": 249569051}'\n",
      "kafka-assignment:0:97: key=None value=b'{\"lead_id\": \"ae0e2ffb-6e98-4e28-a271-559cdcd0073f\", \"lead_name\": \"Jordan Lee\", \"ads_channel\": \"Google\", \"province\": \"Jawa Timur\", \"age\": 34, \"transaction_id\": \"e8d6d744-f321-4f29-a571-4d7d119b4a54\", \"purchase_value\": 1673542, \"ts\": 43439710}'\n",
      "kafka-assignment:0:98: key=None value=b'{\"lead_id\": \"85e55cee-2ee9-44b1-a32f-eaa7f40863e0\", \"lead_name\": \"Janice Hunt\", \"ads_channel\": \"Programmatic\", \"province\": \"DKI Jakarta\", \"age\": 26, \"transaction_id\": \"95758661-f120-4149-aec7-be921983ba7f\", \"purchase_value\": 5440297, \"ts\": 1342914542}'\n",
      "kafka-assignment:0:99: key=None value=b'{\"lead_id\": \"7a8f98be-ad2a-41fd-9075-77abb2391b72\", \"lead_name\": \"Jason Jackson\", \"ads_channel\": \"Programmatic\", \"province\": \"Jawa Tengah\", \"age\": 19, \"transaction_id\": \"c4654d3e-33bb-4c19-a8fe-9479ee6f59cd\", \"purchase_value\": 5701247, \"ts\": 745302494}'\n",
      "kafka-assignment:0:100: key=None value=b'{\"lead_id\": \"0c227a3e-3c58-4d12-b8dd-ace141ba26bf\", \"lead_name\": \"Michael Blair\", \"ads_channel\": \"Google\", \"province\": \"Banten\", \"age\": 42, \"transaction_id\": \"08f87efe-9574-4d0c-b56d-7261a8da7e02\", \"purchase_value\": 4703564, \"ts\": 1016325341}'\n",
      "kafka-assignment:0:101: key=None value=b'{\"lead_id\": \"6cfd6add-5e06-4af1-baa1-313e3abf7420\", \"lead_name\": \"James Davis\", \"ads_channel\": \"Meta\", \"province\": \"Banten\", \"age\": 32, \"transaction_id\": \"086dae38-116f-4f71-9799-07df8e6a1d62\", \"purchase_value\": 2241028, \"ts\": 1211944039}'\n",
      "kafka-assignment:0:102: key=None value=b'{\"lead_id\": \"e46a80f6-1b70-4fad-97c0-ee43e70b52a3\", \"lead_name\": \"Mitchell Holt\", \"ads_channel\": \"Meta\", \"province\": \"Jawa Timur\", \"age\": 45, \"transaction_id\": \"94827217-46e7-43e5-bb99-3e1ffef46f89\", \"purchase_value\": 6218985, \"ts\": 782406182}'\n",
      "kafka-assignment:0:103: key=None value=b'{\"lead_id\": \"4c7d5569-42d4-46ed-94b5-d0e12539ffa3\", \"lead_name\": \"Kelly Martinez\", \"ads_channel\": \"Google\", \"province\": \"Banten\", \"age\": 30, \"transaction_id\": \"c42a93d2-54c7-49c8-a35c-8c778a1deff6\", \"purchase_value\": 3519239, \"ts\": 1197856909}'\n",
      "kafka-assignment:0:104: key=None value=b'{\"lead_id\": \"03ec6ad5-0376-41f3-98a3-67fc92337bd1\", \"lead_name\": \"Rachel Guzman DVM\", \"ads_channel\": \"Programmatic\", \"province\": \"Jawa Tengah\", \"age\": 36, \"transaction_id\": \"c6299d50-a215-418a-ba89-58d349b67eb0\", \"purchase_value\": 2552586, \"ts\": 54567506}'\n",
      "kafka-assignment:0:105: key=None value=b'{\"lead_id\": \"c2861c43-6f32-4be8-888f-af31b969a565\", \"lead_name\": \"Steve Lee III\", \"ads_channel\": \"Meta\", \"province\": \"Jawa Tengah\", \"age\": 37, \"transaction_id\": \"228a27c0-7ca2-48ea-beba-a8d1ab95283f\", \"purchase_value\": 3790887, \"ts\": 1449549109}'\n",
      "kafka-assignment:0:106: key=None value=b'{\"lead_id\": \"df705700-e23b-4533-82ae-41fcbadd8e7c\", \"lead_name\": \"Kyle Hunt\", \"ads_channel\": \"Meta\", \"province\": \"Banten\", \"age\": 36, \"transaction_id\": \"b1a4d35b-9a56-4d15-8183-31cdfd90b54d\", \"purchase_value\": 4802599, \"ts\": 837092802}'\n",
      "kafka-assignment:0:107: key=None value=b'{\"lead_id\": \"2ec01fd6-c9d4-47de-8171-ccf5e4357c99\", \"lead_name\": \"Erika Snyder\", \"ads_channel\": \"TikTok\", \"province\": \"Jawa Tengah\", \"age\": 33, \"transaction_id\": \"5c792b9b-cc4b-4dec-9ea4-8aea8d746a0b\", \"purchase_value\": 8885342, \"ts\": 523694644}'\n",
      "kafka-assignment:0:108: key=None value=b'{\"lead_id\": \"fa43a6bb-fb78-45e4-85a2-12b06d843a4d\", \"lead_name\": \"Helen Johnston\", \"ads_channel\": \"TikTok\", \"province\": \"Banten\", \"age\": 44, \"transaction_id\": \"901e59c4-d02a-4284-8db1-24c9f385c284\", \"purchase_value\": 3141861, \"ts\": 578151677}'\n",
      "kafka-assignment:0:109: key=None value=b'{\"lead_id\": \"4f81f7c3-52d7-44fb-b83e-3b4306552904\", \"lead_name\": \"Samantha Pham\", \"ads_channel\": \"Google\", \"province\": \"Jawa Tengah\", \"age\": 34, \"transaction_id\": \"c39dafb8-a67b-4954-a692-45d2ed854771\", \"purchase_value\": 6411764, \"ts\": 232700182}'\n",
      "kafka-assignment:0:110: key=None value=b'{\"lead_id\": \"5335ab3a-8f3a-46fc-9dcc-a30f7298b0f2\", \"lead_name\": \"Ashley Martin\", \"ads_channel\": \"Programmatic\", \"province\": \"Jawa Timur\", \"age\": 33, \"transaction_id\": \"8e5650ca-816f-42ef-ab35-510f730954a7\", \"purchase_value\": 4076852, \"ts\": 495340768}'\n",
      "kafka-assignment:0:111: key=None value=b'{\"lead_id\": \"337d7b16-d562-4975-8a1a-858107cb1359\", \"lead_name\": \"Christian Green\", \"ads_channel\": \"Meta\", \"province\": \"Banten\", \"age\": 32, \"transaction_id\": \"83d66a38-a86a-431f-97bb-7d09b0624193\", \"purchase_value\": 8180887, \"ts\": 580607286}'\n",
      "kafka-assignment:0:112: key=None value=b'{\"lead_id\": \"38f2a886-a780-4e80-a70e-1b6e61754853\", \"lead_name\": \"Deanna Valdez\", \"ads_channel\": \"Google\", \"province\": \"DKI Jakarta\", \"age\": 31, \"transaction_id\": \"19f1d5a8-5574-4a86-8f33-62ea9d076761\", \"purchase_value\": 8080338, \"ts\": 1111652811}'\n"
     ]
    },
    {
     "ename": "KeyboardInterrupt",
     "evalue": "",
     "output_type": "error",
     "traceback": [
      "\u001b[0;31m---------------------------------------------------------------------------\u001b[0m",
      "\u001b[0;31mKeyboardInterrupt\u001b[0m                         Traceback (most recent call last)",
      "Cell \u001b[0;32mIn[5], line 1\u001b[0m\n\u001b[0;32m----> 1\u001b[0m \u001b[38;5;28;01mfor\u001b[39;00m message \u001b[38;5;129;01min\u001b[39;00m consumer:\n\u001b[1;32m      2\u001b[0m     \u001b[38;5;28mprint\u001b[39m (\u001b[38;5;124m\"\u001b[39m\u001b[38;5;132;01m%s\u001b[39;00m\u001b[38;5;124m:\u001b[39m\u001b[38;5;132;01m%d\u001b[39;00m\u001b[38;5;124m:\u001b[39m\u001b[38;5;132;01m%d\u001b[39;00m\u001b[38;5;124m: key=\u001b[39m\u001b[38;5;132;01m%s\u001b[39;00m\u001b[38;5;124m value=\u001b[39m\u001b[38;5;132;01m%s\u001b[39;00m\u001b[38;5;124m\"\u001b[39m \u001b[38;5;241m%\u001b[39m (message\u001b[38;5;241m.\u001b[39mtopic, message\u001b[38;5;241m.\u001b[39mpartition,\n\u001b[1;32m      3\u001b[0m                                           message\u001b[38;5;241m.\u001b[39moffset, message\u001b[38;5;241m.\u001b[39mkey,\n\u001b[1;32m      4\u001b[0m                                           message\u001b[38;5;241m.\u001b[39mvalue))\n",
      "File \u001b[0;32m/opt/conda/lib/python3.10/site-packages/kafka/consumer/group.py:1193\u001b[0m, in \u001b[0;36mKafkaConsumer.__next__\u001b[0;34m(self)\u001b[0m\n\u001b[1;32m   1191\u001b[0m     \u001b[38;5;28;01mreturn\u001b[39;00m \u001b[38;5;28mself\u001b[39m\u001b[38;5;241m.\u001b[39mnext_v1()\n\u001b[1;32m   1192\u001b[0m \u001b[38;5;28;01melse\u001b[39;00m:\n\u001b[0;32m-> 1193\u001b[0m     \u001b[38;5;28;01mreturn\u001b[39;00m \u001b[38;5;28;43mself\u001b[39;49m\u001b[38;5;241;43m.\u001b[39;49m\u001b[43mnext_v2\u001b[49m\u001b[43m(\u001b[49m\u001b[43m)\u001b[49m\n",
      "File \u001b[0;32m/opt/conda/lib/python3.10/site-packages/kafka/consumer/group.py:1201\u001b[0m, in \u001b[0;36mKafkaConsumer.next_v2\u001b[0;34m(self)\u001b[0m\n\u001b[1;32m   1199\u001b[0m     \u001b[38;5;28mself\u001b[39m\u001b[38;5;241m.\u001b[39m_iterator \u001b[38;5;241m=\u001b[39m \u001b[38;5;28mself\u001b[39m\u001b[38;5;241m.\u001b[39m_message_generator_v2()\n\u001b[1;32m   1200\u001b[0m \u001b[38;5;28;01mtry\u001b[39;00m:\n\u001b[0;32m-> 1201\u001b[0m     \u001b[38;5;28;01mreturn\u001b[39;00m \u001b[38;5;28;43mnext\u001b[39;49m\u001b[43m(\u001b[49m\u001b[38;5;28;43mself\u001b[39;49m\u001b[38;5;241;43m.\u001b[39;49m\u001b[43m_iterator\u001b[49m\u001b[43m)\u001b[49m\n\u001b[1;32m   1202\u001b[0m \u001b[38;5;28;01mexcept\u001b[39;00m \u001b[38;5;167;01mStopIteration\u001b[39;00m:\n\u001b[1;32m   1203\u001b[0m     \u001b[38;5;28mself\u001b[39m\u001b[38;5;241m.\u001b[39m_iterator \u001b[38;5;241m=\u001b[39m \u001b[38;5;28;01mNone\u001b[39;00m\n",
      "File \u001b[0;32m/opt/conda/lib/python3.10/site-packages/kafka/consumer/group.py:1116\u001b[0m, in \u001b[0;36mKafkaConsumer._message_generator_v2\u001b[0;34m(self)\u001b[0m\n\u001b[1;32m   1114\u001b[0m \u001b[38;5;28;01mdef\u001b[39;00m \u001b[38;5;21m_message_generator_v2\u001b[39m(\u001b[38;5;28mself\u001b[39m):\n\u001b[1;32m   1115\u001b[0m     timeout_ms \u001b[38;5;241m=\u001b[39m \u001b[38;5;241m1000\u001b[39m \u001b[38;5;241m*\u001b[39m (\u001b[38;5;28mself\u001b[39m\u001b[38;5;241m.\u001b[39m_consumer_timeout \u001b[38;5;241m-\u001b[39m time\u001b[38;5;241m.\u001b[39mtime())\n\u001b[0;32m-> 1116\u001b[0m     record_map \u001b[38;5;241m=\u001b[39m \u001b[38;5;28;43mself\u001b[39;49m\u001b[38;5;241;43m.\u001b[39;49m\u001b[43mpoll\u001b[49m\u001b[43m(\u001b[49m\u001b[43mtimeout_ms\u001b[49m\u001b[38;5;241;43m=\u001b[39;49m\u001b[43mtimeout_ms\u001b[49m\u001b[43m,\u001b[49m\u001b[43m \u001b[49m\u001b[43mupdate_offsets\u001b[49m\u001b[38;5;241;43m=\u001b[39;49m\u001b[38;5;28;43;01mFalse\u001b[39;49;00m\u001b[43m)\u001b[49m\n\u001b[1;32m   1117\u001b[0m     \u001b[38;5;28;01mfor\u001b[39;00m tp, records \u001b[38;5;129;01min\u001b[39;00m six\u001b[38;5;241m.\u001b[39miteritems(record_map):\n\u001b[1;32m   1118\u001b[0m         \u001b[38;5;66;03m# Generators are stateful, and it is possible that the tp / records\u001b[39;00m\n\u001b[1;32m   1119\u001b[0m         \u001b[38;5;66;03m# here may become stale during iteration -- i.e., we seek to a\u001b[39;00m\n\u001b[1;32m   1120\u001b[0m         \u001b[38;5;66;03m# different offset, pause consumption, or lose assignment.\u001b[39;00m\n\u001b[1;32m   1121\u001b[0m         \u001b[38;5;28;01mfor\u001b[39;00m record \u001b[38;5;129;01min\u001b[39;00m records:\n\u001b[1;32m   1122\u001b[0m             \u001b[38;5;66;03m# is_fetchable(tp) should handle assignment changes and offset\u001b[39;00m\n\u001b[1;32m   1123\u001b[0m             \u001b[38;5;66;03m# resets; for all other changes (e.g., seeks) we'll rely on the\u001b[39;00m\n\u001b[1;32m   1124\u001b[0m             \u001b[38;5;66;03m# outer function destroying the existing iterator/generator\u001b[39;00m\n\u001b[1;32m   1125\u001b[0m             \u001b[38;5;66;03m# via self._iterator = None\u001b[39;00m\n",
      "File \u001b[0;32m/opt/conda/lib/python3.10/site-packages/kafka/consumer/group.py:655\u001b[0m, in \u001b[0;36mKafkaConsumer.poll\u001b[0;34m(self, timeout_ms, max_records, update_offsets)\u001b[0m\n\u001b[1;32m    653\u001b[0m remaining \u001b[38;5;241m=\u001b[39m timeout_ms\n\u001b[1;32m    654\u001b[0m \u001b[38;5;28;01mwhile\u001b[39;00m \u001b[38;5;28;01mTrue\u001b[39;00m:\n\u001b[0;32m--> 655\u001b[0m     records \u001b[38;5;241m=\u001b[39m \u001b[38;5;28;43mself\u001b[39;49m\u001b[38;5;241;43m.\u001b[39;49m\u001b[43m_poll_once\u001b[49m\u001b[43m(\u001b[49m\u001b[43mremaining\u001b[49m\u001b[43m,\u001b[49m\u001b[43m \u001b[49m\u001b[43mmax_records\u001b[49m\u001b[43m,\u001b[49m\u001b[43m \u001b[49m\u001b[43mupdate_offsets\u001b[49m\u001b[38;5;241;43m=\u001b[39;49m\u001b[43mupdate_offsets\u001b[49m\u001b[43m)\u001b[49m\n\u001b[1;32m    656\u001b[0m     \u001b[38;5;28;01mif\u001b[39;00m records:\n\u001b[1;32m    657\u001b[0m         \u001b[38;5;28;01mreturn\u001b[39;00m records\n",
      "File \u001b[0;32m/opt/conda/lib/python3.10/site-packages/kafka/consumer/group.py:702\u001b[0m, in \u001b[0;36mKafkaConsumer._poll_once\u001b[0;34m(self, timeout_ms, max_records, update_offsets)\u001b[0m\n\u001b[1;32m    699\u001b[0m     \u001b[38;5;28mself\u001b[39m\u001b[38;5;241m.\u001b[39m_client\u001b[38;5;241m.\u001b[39mpoll(timeout_ms\u001b[38;5;241m=\u001b[39m\u001b[38;5;241m0\u001b[39m)\n\u001b[1;32m    701\u001b[0m timeout_ms \u001b[38;5;241m=\u001b[39m \u001b[38;5;28mmin\u001b[39m(timeout_ms, \u001b[38;5;28mself\u001b[39m\u001b[38;5;241m.\u001b[39m_coordinator\u001b[38;5;241m.\u001b[39mtime_to_next_poll() \u001b[38;5;241m*\u001b[39m \u001b[38;5;241m1000\u001b[39m)\n\u001b[0;32m--> 702\u001b[0m \u001b[38;5;28;43mself\u001b[39;49m\u001b[38;5;241;43m.\u001b[39;49m\u001b[43m_client\u001b[49m\u001b[38;5;241;43m.\u001b[39;49m\u001b[43mpoll\u001b[49m\u001b[43m(\u001b[49m\u001b[43mtimeout_ms\u001b[49m\u001b[38;5;241;43m=\u001b[39;49m\u001b[43mtimeout_ms\u001b[49m\u001b[43m)\u001b[49m\n\u001b[1;32m    703\u001b[0m \u001b[38;5;66;03m# after the long poll, we should check whether the group needs to rebalance\u001b[39;00m\n\u001b[1;32m    704\u001b[0m \u001b[38;5;66;03m# prior to returning data so that the group can stabilize faster\u001b[39;00m\n\u001b[1;32m    705\u001b[0m \u001b[38;5;28;01mif\u001b[39;00m \u001b[38;5;28mself\u001b[39m\u001b[38;5;241m.\u001b[39m_coordinator\u001b[38;5;241m.\u001b[39mneed_rejoin():\n",
      "File \u001b[0;32m/opt/conda/lib/python3.10/site-packages/kafka/client_async.py:602\u001b[0m, in \u001b[0;36mKafkaClient.poll\u001b[0;34m(self, timeout_ms, future)\u001b[0m\n\u001b[1;32m    599\u001b[0m             timeout \u001b[38;5;241m=\u001b[39m \u001b[38;5;28mmin\u001b[39m(timeout, \u001b[38;5;28mself\u001b[39m\u001b[38;5;241m.\u001b[39mconfig[\u001b[38;5;124m'\u001b[39m\u001b[38;5;124mretry_backoff_ms\u001b[39m\u001b[38;5;124m'\u001b[39m])\n\u001b[1;32m    600\u001b[0m         timeout \u001b[38;5;241m=\u001b[39m \u001b[38;5;28mmax\u001b[39m(\u001b[38;5;241m0\u001b[39m, timeout)  \u001b[38;5;66;03m# avoid negative timeouts\u001b[39;00m\n\u001b[0;32m--> 602\u001b[0m     \u001b[38;5;28;43mself\u001b[39;49m\u001b[38;5;241;43m.\u001b[39;49m\u001b[43m_poll\u001b[49m\u001b[43m(\u001b[49m\u001b[43mtimeout\u001b[49m\u001b[43m \u001b[49m\u001b[38;5;241;43m/\u001b[39;49m\u001b[43m \u001b[49m\u001b[38;5;241;43m1000\u001b[39;49m\u001b[43m)\u001b[49m\n\u001b[1;32m    604\u001b[0m \u001b[38;5;66;03m# called without the lock to avoid deadlock potential\u001b[39;00m\n\u001b[1;32m    605\u001b[0m \u001b[38;5;66;03m# if handlers need to acquire locks\u001b[39;00m\n\u001b[1;32m    606\u001b[0m responses\u001b[38;5;241m.\u001b[39mextend(\u001b[38;5;28mself\u001b[39m\u001b[38;5;241m.\u001b[39m_fire_pending_completed_requests())\n",
      "File \u001b[0;32m/opt/conda/lib/python3.10/site-packages/kafka/client_async.py:634\u001b[0m, in \u001b[0;36mKafkaClient._poll\u001b[0;34m(self, timeout)\u001b[0m\n\u001b[1;32m    631\u001b[0m \u001b[38;5;28mself\u001b[39m\u001b[38;5;241m.\u001b[39m_register_send_sockets()\n\u001b[1;32m    633\u001b[0m start_select \u001b[38;5;241m=\u001b[39m time\u001b[38;5;241m.\u001b[39mtime()\n\u001b[0;32m--> 634\u001b[0m ready \u001b[38;5;241m=\u001b[39m \u001b[38;5;28;43mself\u001b[39;49m\u001b[38;5;241;43m.\u001b[39;49m\u001b[43m_selector\u001b[49m\u001b[38;5;241;43m.\u001b[39;49m\u001b[43mselect\u001b[49m\u001b[43m(\u001b[49m\u001b[43mtimeout\u001b[49m\u001b[43m)\u001b[49m\n\u001b[1;32m    635\u001b[0m end_select \u001b[38;5;241m=\u001b[39m time\u001b[38;5;241m.\u001b[39mtime()\n\u001b[1;32m    636\u001b[0m \u001b[38;5;28;01mif\u001b[39;00m \u001b[38;5;28mself\u001b[39m\u001b[38;5;241m.\u001b[39m_sensors:\n",
      "File \u001b[0;32m/opt/conda/lib/python3.10/selectors.py:469\u001b[0m, in \u001b[0;36mEpollSelector.select\u001b[0;34m(self, timeout)\u001b[0m\n\u001b[1;32m    467\u001b[0m ready \u001b[38;5;241m=\u001b[39m []\n\u001b[1;32m    468\u001b[0m \u001b[38;5;28;01mtry\u001b[39;00m:\n\u001b[0;32m--> 469\u001b[0m     fd_event_list \u001b[38;5;241m=\u001b[39m \u001b[38;5;28;43mself\u001b[39;49m\u001b[38;5;241;43m.\u001b[39;49m\u001b[43m_selector\u001b[49m\u001b[38;5;241;43m.\u001b[39;49m\u001b[43mpoll\u001b[49m\u001b[43m(\u001b[49m\u001b[43mtimeout\u001b[49m\u001b[43m,\u001b[49m\u001b[43m \u001b[49m\u001b[43mmax_ev\u001b[49m\u001b[43m)\u001b[49m\n\u001b[1;32m    470\u001b[0m \u001b[38;5;28;01mexcept\u001b[39;00m \u001b[38;5;167;01mInterruptedError\u001b[39;00m:\n\u001b[1;32m    471\u001b[0m     \u001b[38;5;28;01mreturn\u001b[39;00m ready\n",
      "\u001b[0;31mKeyboardInterrupt\u001b[0m: "
     ]
    }
   ],
   "source": [
    "for message in consumer:\n",
    "    print (\"%s:%d:%d: key=%s value=%s\" % (message.topic, message.partition,\n",
    "                                          message.offset, message.key,\n",
    "                                          message.value))"
   ]
  },
  {
   "cell_type": "code",
   "execution_count": null,
   "id": "05a01e6f-ec34-4378-8025-b0df1b56bbb8",
   "metadata": {},
   "outputs": [],
   "source": []
  }
 ],
 "metadata": {
  "kernelspec": {
   "display_name": "Python 3 (ipykernel)",
   "language": "python",
   "name": "python3"
  },
  "language_info": {
   "codemirror_mode": {
    "name": "ipython",
    "version": 3
   },
   "file_extension": ".py",
   "mimetype": "text/x-python",
   "name": "python",
   "nbconvert_exporter": "python",
   "pygments_lexer": "ipython3",
   "version": "3.10.10"
  }
 },
 "nbformat": 4,
 "nbformat_minor": 5
}
